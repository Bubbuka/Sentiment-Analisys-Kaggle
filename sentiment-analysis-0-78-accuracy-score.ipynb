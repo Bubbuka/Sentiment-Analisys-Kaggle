{
 "cells": [
  {
   "cell_type": "code",
   "execution_count": 1,
   "id": "73edc539",
   "metadata": {
    "_cell_guid": "534081f8-eacd-4f49-a494-981e5194981c",
    "_uuid": "34d6d9a1-470b-45ed-b9b4-0c505d9bad5d",
    "collapsed": false,
    "execution": {
     "iopub.execute_input": "2022-10-31T17:23:01.500998Z",
     "iopub.status.busy": "2022-10-31T17:23:01.500563Z",
     "iopub.status.idle": "2022-10-31T17:23:08.690771Z",
     "shell.execute_reply": "2022-10-31T17:23:08.689045Z"
    },
    "jupyter": {
     "outputs_hidden": false
    },
    "papermill": {
     "duration": 7.216281,
     "end_time": "2022-10-31T17:23:08.694227",
     "exception": false,
     "start_time": "2022-10-31T17:23:01.477946",
     "status": "completed"
    },
    "tags": []
   },
   "outputs": [
    {
     "name": "stdout",
     "output_type": "stream",
     "text": [
      "/kaggle/input/sentiment140/training.1600000.processed.noemoticon.csv\n"
     ]
    }
   ],
   "source": [
    "\n",
    "\n",
    "import numpy as np # linear algebra\n",
    "import pandas as pd # data processing, CSV file I/O (e.g. pd.read_csv)\n",
    "from sklearn.model_selection import train_test_split\n",
    "import matplotlib.pyplot as plt\n",
    "import seaborn as sns\n",
    "import re\n",
    "from keras.layers import Activation, Dense, Dropout, Embedding, Flatten, Conv1D, MaxPooling1D, LSTM\n",
    "import os\n",
    "for dirname, _, filenames in os.walk('/kaggle/input'):\n",
    "    for filename in filenames:\n",
    "        print(os.path.join(dirname, filename))"
   ]
  },
  {
   "cell_type": "code",
   "execution_count": null,
   "id": "06313b0f",
   "metadata": {
    "papermill": {
     "duration": 0.017532,
     "end_time": "2022-10-31T17:23:08.730942",
     "exception": false,
     "start_time": "2022-10-31T17:23:08.713410",
     "status": "completed"
    },
    "tags": []
   },
   "outputs": [],
   "source": []
  },
  {
   "cell_type": "code",
   "execution_count": 2,
   "id": "3483dcdf",
   "metadata": {
    "_cell_guid": "5135f506-f776-4bea-9f7c-97eb7dc3d73a",
    "_uuid": "03f47a84-608d-4e8f-b118-46b7e570e545",
    "collapsed": false,
    "execution": {
     "iopub.execute_input": "2022-10-31T17:23:08.767872Z",
     "iopub.status.busy": "2022-10-31T17:23:08.767134Z",
     "iopub.status.idle": "2022-10-31T17:23:15.836589Z",
     "shell.execute_reply": "2022-10-31T17:23:15.835084Z"
    },
    "jupyter": {
     "outputs_hidden": false
    },
    "papermill": {
     "duration": 7.091587,
     "end_time": "2022-10-31T17:23:15.839905",
     "exception": false,
     "start_time": "2022-10-31T17:23:08.748318",
     "status": "completed"
    },
    "tags": []
   },
   "outputs": [],
   "source": [
    "# load the data\n",
    "\n",
    "\n",
    "DATASET_ENCODING = \"ISO-8859-1\"\n",
    "df = pd.read_csv('../input/sentiment140/training.1600000.processed.noemoticon.csv', encoding =DATASET_ENCODING )"
   ]
  },
  {
   "cell_type": "code",
   "execution_count": 3,
   "id": "ffdaaaa7",
   "metadata": {
    "_cell_guid": "5bf7c202-f914-47b2-8056-d6959264e227",
    "_uuid": "bdbcd9ce-9af2-48f5-a040-79a6d5eacc13",
    "collapsed": false,
    "execution": {
     "iopub.execute_input": "2022-10-31T17:23:15.878773Z",
     "iopub.status.busy": "2022-10-31T17:23:15.878077Z",
     "iopub.status.idle": "2022-10-31T17:23:15.884252Z",
     "shell.execute_reply": "2022-10-31T17:23:15.883085Z"
    },
    "jupyter": {
     "outputs_hidden": false
    },
    "papermill": {
     "duration": 0.028054,
     "end_time": "2022-10-31T17:23:15.886975",
     "exception": false,
     "start_time": "2022-10-31T17:23:15.858921",
     "status": "completed"
    },
    "tags": []
   },
   "outputs": [
    {
     "name": "stdout",
     "output_type": "stream",
     "text": [
      "Dataset size: 1599999\n"
     ]
    }
   ],
   "source": [
    "print(\"Dataset size:\", len(df))   #let's see the size of the data set"
   ]
  },
  {
   "cell_type": "code",
   "execution_count": 4,
   "id": "68d7bae7",
   "metadata": {
    "_cell_guid": "9ef2f8f3-56ba-42d6-96dd-f06bdc6a2bd8",
    "_uuid": "5d5a3cef-eefd-4da5-853a-6c75dfeb2a29",
    "collapsed": false,
    "execution": {
     "iopub.execute_input": "2022-10-31T17:23:15.926829Z",
     "iopub.status.busy": "2022-10-31T17:23:15.926332Z",
     "iopub.status.idle": "2022-10-31T17:23:15.949973Z",
     "shell.execute_reply": "2022-10-31T17:23:15.948720Z"
    },
    "jupyter": {
     "outputs_hidden": false
    },
    "papermill": {
     "duration": 0.046886,
     "end_time": "2022-10-31T17:23:15.952549",
     "exception": false,
     "start_time": "2022-10-31T17:23:15.905663",
     "status": "completed"
    },
    "tags": []
   },
   "outputs": [
    {
     "data": {
      "text/html": [
       "<div>\n",
       "<style scoped>\n",
       "    .dataframe tbody tr th:only-of-type {\n",
       "        vertical-align: middle;\n",
       "    }\n",
       "\n",
       "    .dataframe tbody tr th {\n",
       "        vertical-align: top;\n",
       "    }\n",
       "\n",
       "    .dataframe thead th {\n",
       "        text-align: right;\n",
       "    }\n",
       "</style>\n",
       "<table border=\"1\" class=\"dataframe\">\n",
       "  <thead>\n",
       "    <tr style=\"text-align: right;\">\n",
       "      <th></th>\n",
       "      <th>0</th>\n",
       "      <th>1467810369</th>\n",
       "      <th>Mon Apr 06 22:19:45 PDT 2009</th>\n",
       "      <th>NO_QUERY</th>\n",
       "      <th>_TheSpecialOne_</th>\n",
       "      <th>@switchfoot http://twitpic.com/2y1zl - Awww, that's a bummer.  You shoulda got David Carr of Third Day to do it. ;D</th>\n",
       "    </tr>\n",
       "  </thead>\n",
       "  <tbody>\n",
       "    <tr>\n",
       "      <th>0</th>\n",
       "      <td>0</td>\n",
       "      <td>1467810672</td>\n",
       "      <td>Mon Apr 06 22:19:49 PDT 2009</td>\n",
       "      <td>NO_QUERY</td>\n",
       "      <td>scotthamilton</td>\n",
       "      <td>is upset that he can't update his Facebook by ...</td>\n",
       "    </tr>\n",
       "    <tr>\n",
       "      <th>1</th>\n",
       "      <td>0</td>\n",
       "      <td>1467810917</td>\n",
       "      <td>Mon Apr 06 22:19:53 PDT 2009</td>\n",
       "      <td>NO_QUERY</td>\n",
       "      <td>mattycus</td>\n",
       "      <td>@Kenichan I dived many times for the ball. Man...</td>\n",
       "    </tr>\n",
       "    <tr>\n",
       "      <th>2</th>\n",
       "      <td>0</td>\n",
       "      <td>1467811184</td>\n",
       "      <td>Mon Apr 06 22:19:57 PDT 2009</td>\n",
       "      <td>NO_QUERY</td>\n",
       "      <td>ElleCTF</td>\n",
       "      <td>my whole body feels itchy and like its on fire</td>\n",
       "    </tr>\n",
       "    <tr>\n",
       "      <th>3</th>\n",
       "      <td>0</td>\n",
       "      <td>1467811193</td>\n",
       "      <td>Mon Apr 06 22:19:57 PDT 2009</td>\n",
       "      <td>NO_QUERY</td>\n",
       "      <td>Karoli</td>\n",
       "      <td>@nationwideclass no, it's not behaving at all....</td>\n",
       "    </tr>\n",
       "    <tr>\n",
       "      <th>4</th>\n",
       "      <td>0</td>\n",
       "      <td>1467811372</td>\n",
       "      <td>Mon Apr 06 22:20:00 PDT 2009</td>\n",
       "      <td>NO_QUERY</td>\n",
       "      <td>joy_wolf</td>\n",
       "      <td>@Kwesidei not the whole crew</td>\n",
       "    </tr>\n",
       "  </tbody>\n",
       "</table>\n",
       "</div>"
      ],
      "text/plain": [
       "   0  1467810369  Mon Apr 06 22:19:45 PDT 2009  NO_QUERY _TheSpecialOne_  \\\n",
       "0  0  1467810672  Mon Apr 06 22:19:49 PDT 2009  NO_QUERY   scotthamilton   \n",
       "1  0  1467810917  Mon Apr 06 22:19:53 PDT 2009  NO_QUERY        mattycus   \n",
       "2  0  1467811184  Mon Apr 06 22:19:57 PDT 2009  NO_QUERY         ElleCTF   \n",
       "3  0  1467811193  Mon Apr 06 22:19:57 PDT 2009  NO_QUERY          Karoli   \n",
       "4  0  1467811372  Mon Apr 06 22:20:00 PDT 2009  NO_QUERY        joy_wolf   \n",
       "\n",
       "  @switchfoot http://twitpic.com/2y1zl - Awww, that's a bummer.  You shoulda got David Carr of Third Day to do it. ;D  \n",
       "0  is upset that he can't update his Facebook by ...                                                                   \n",
       "1  @Kenichan I dived many times for the ball. Man...                                                                   \n",
       "2    my whole body feels itchy and like its on fire                                                                    \n",
       "3  @nationwideclass no, it's not behaving at all....                                                                   \n",
       "4                      @Kwesidei not the whole crew                                                                    "
      ]
     },
     "execution_count": 4,
     "metadata": {},
     "output_type": "execute_result"
    }
   ],
   "source": [
    "df.head(5)"
   ]
  },
  {
   "cell_type": "code",
   "execution_count": 5,
   "id": "ee6b4191",
   "metadata": {
    "_cell_guid": "3c6b8710-9161-4dad-88ef-154d9e70f99d",
    "_uuid": "162a07bf-5b73-4e4b-8fef-0f37315860d3",
    "collapsed": false,
    "execution": {
     "iopub.execute_input": "2022-10-31T17:23:15.992746Z",
     "iopub.status.busy": "2022-10-31T17:23:15.991608Z",
     "iopub.status.idle": "2022-10-31T17:23:15.997230Z",
     "shell.execute_reply": "2022-10-31T17:23:15.996181Z"
    },
    "jupyter": {
     "outputs_hidden": false
    },
    "papermill": {
     "duration": 0.027878,
     "end_time": "2022-10-31T17:23:15.999445",
     "exception": false,
     "start_time": "2022-10-31T17:23:15.971567",
     "status": "completed"
    },
    "tags": []
   },
   "outputs": [],
   "source": [
    "#column names\n",
    "df.columns =[\"target\", \"ids\", \"date\", \"flag\", \"user\", \"text\"]"
   ]
  },
  {
   "cell_type": "code",
   "execution_count": 6,
   "id": "2f17986f",
   "metadata": {
    "_cell_guid": "419eeba2-b7fc-4fe8-a561-cf52aa4c083a",
    "_uuid": "12742655-f895-47c0-a580-8407fda94f09",
    "collapsed": false,
    "execution": {
     "iopub.execute_input": "2022-10-31T17:23:16.040053Z",
     "iopub.status.busy": "2022-10-31T17:23:16.039600Z",
     "iopub.status.idle": "2022-10-31T17:23:16.053114Z",
     "shell.execute_reply": "2022-10-31T17:23:16.052218Z"
    },
    "jupyter": {
     "outputs_hidden": false
    },
    "papermill": {
     "duration": 0.035675,
     "end_time": "2022-10-31T17:23:16.055131",
     "exception": false,
     "start_time": "2022-10-31T17:23:16.019456",
     "status": "completed"
    },
    "tags": []
   },
   "outputs": [
    {
     "data": {
      "text/html": [
       "<div>\n",
       "<style scoped>\n",
       "    .dataframe tbody tr th:only-of-type {\n",
       "        vertical-align: middle;\n",
       "    }\n",
       "\n",
       "    .dataframe tbody tr th {\n",
       "        vertical-align: top;\n",
       "    }\n",
       "\n",
       "    .dataframe thead th {\n",
       "        text-align: right;\n",
       "    }\n",
       "</style>\n",
       "<table border=\"1\" class=\"dataframe\">\n",
       "  <thead>\n",
       "    <tr style=\"text-align: right;\">\n",
       "      <th></th>\n",
       "      <th>target</th>\n",
       "      <th>ids</th>\n",
       "      <th>date</th>\n",
       "      <th>flag</th>\n",
       "      <th>user</th>\n",
       "      <th>text</th>\n",
       "    </tr>\n",
       "  </thead>\n",
       "  <tbody>\n",
       "    <tr>\n",
       "      <th>0</th>\n",
       "      <td>0</td>\n",
       "      <td>1467810672</td>\n",
       "      <td>Mon Apr 06 22:19:49 PDT 2009</td>\n",
       "      <td>NO_QUERY</td>\n",
       "      <td>scotthamilton</td>\n",
       "      <td>is upset that he can't update his Facebook by ...</td>\n",
       "    </tr>\n",
       "    <tr>\n",
       "      <th>1</th>\n",
       "      <td>0</td>\n",
       "      <td>1467810917</td>\n",
       "      <td>Mon Apr 06 22:19:53 PDT 2009</td>\n",
       "      <td>NO_QUERY</td>\n",
       "      <td>mattycus</td>\n",
       "      <td>@Kenichan I dived many times for the ball. Man...</td>\n",
       "    </tr>\n",
       "    <tr>\n",
       "      <th>2</th>\n",
       "      <td>0</td>\n",
       "      <td>1467811184</td>\n",
       "      <td>Mon Apr 06 22:19:57 PDT 2009</td>\n",
       "      <td>NO_QUERY</td>\n",
       "      <td>ElleCTF</td>\n",
       "      <td>my whole body feels itchy and like its on fire</td>\n",
       "    </tr>\n",
       "    <tr>\n",
       "      <th>3</th>\n",
       "      <td>0</td>\n",
       "      <td>1467811193</td>\n",
       "      <td>Mon Apr 06 22:19:57 PDT 2009</td>\n",
       "      <td>NO_QUERY</td>\n",
       "      <td>Karoli</td>\n",
       "      <td>@nationwideclass no, it's not behaving at all....</td>\n",
       "    </tr>\n",
       "    <tr>\n",
       "      <th>4</th>\n",
       "      <td>0</td>\n",
       "      <td>1467811372</td>\n",
       "      <td>Mon Apr 06 22:20:00 PDT 2009</td>\n",
       "      <td>NO_QUERY</td>\n",
       "      <td>joy_wolf</td>\n",
       "      <td>@Kwesidei not the whole crew</td>\n",
       "    </tr>\n",
       "  </tbody>\n",
       "</table>\n",
       "</div>"
      ],
      "text/plain": [
       "   target         ids                          date      flag           user  \\\n",
       "0       0  1467810672  Mon Apr 06 22:19:49 PDT 2009  NO_QUERY  scotthamilton   \n",
       "1       0  1467810917  Mon Apr 06 22:19:53 PDT 2009  NO_QUERY       mattycus   \n",
       "2       0  1467811184  Mon Apr 06 22:19:57 PDT 2009  NO_QUERY        ElleCTF   \n",
       "3       0  1467811193  Mon Apr 06 22:19:57 PDT 2009  NO_QUERY         Karoli   \n",
       "4       0  1467811372  Mon Apr 06 22:20:00 PDT 2009  NO_QUERY       joy_wolf   \n",
       "\n",
       "                                                text  \n",
       "0  is upset that he can't update his Facebook by ...  \n",
       "1  @Kenichan I dived many times for the ball. Man...  \n",
       "2    my whole body feels itchy and like its on fire   \n",
       "3  @nationwideclass no, it's not behaving at all....  \n",
       "4                      @Kwesidei not the whole crew   "
      ]
     },
     "execution_count": 6,
     "metadata": {},
     "output_type": "execute_result"
    }
   ],
   "source": [
    "df.head(5)"
   ]
  },
  {
   "cell_type": "code",
   "execution_count": 7,
   "id": "cfd16794",
   "metadata": {
    "_cell_guid": "3dd16af0-2042-43ca-b589-a7a2d7668f7b",
    "_uuid": "46b3ab58-a309-4e8d-bf11-398c6920a692",
    "collapsed": false,
    "execution": {
     "iopub.execute_input": "2022-10-31T17:23:16.094723Z",
     "iopub.status.busy": "2022-10-31T17:23:16.093537Z",
     "iopub.status.idle": "2022-10-31T17:23:16.098222Z",
     "shell.execute_reply": "2022-10-31T17:23:16.097368Z"
    },
    "jupyter": {
     "outputs_hidden": false
    },
    "papermill": {
     "duration": 0.026301,
     "end_time": "2022-10-31T17:23:16.100290",
     "exception": false,
     "start_time": "2022-10-31T17:23:16.073989",
     "status": "completed"
    },
    "tags": []
   },
   "outputs": [],
   "source": [
    "# global names\n",
    "TARGET = 'target'"
   ]
  },
  {
   "cell_type": "code",
   "execution_count": 8,
   "id": "f6f4788d",
   "metadata": {
    "_cell_guid": "f8eb4e35-66f2-48e5-adc3-3b8e7605394a",
    "_uuid": "22a4dbb7-5bd5-40b6-b502-f279a638e6dd",
    "collapsed": false,
    "execution": {
     "iopub.execute_input": "2022-10-31T17:23:16.138462Z",
     "iopub.status.busy": "2022-10-31T17:23:16.138049Z",
     "iopub.status.idle": "2022-10-31T17:23:16.481446Z",
     "shell.execute_reply": "2022-10-31T17:23:16.480145Z"
    },
    "jupyter": {
     "outputs_hidden": false
    },
    "papermill": {
     "duration": 0.366092,
     "end_time": "2022-10-31T17:23:16.484714",
     "exception": false,
     "start_time": "2022-10-31T17:23:16.118622",
     "status": "completed"
    },
    "tags": []
   },
   "outputs": [
    {
     "name": "stdout",
     "output_type": "stream",
     "text": [
      "<class 'pandas.core.frame.DataFrame'>\n",
      "RangeIndex: 1599999 entries, 0 to 1599998\n",
      "Data columns (total 6 columns):\n",
      " #   Column  Non-Null Count    Dtype \n",
      "---  ------  --------------    ----- \n",
      " 0   target  1599999 non-null  int64 \n",
      " 1   ids     1599999 non-null  int64 \n",
      " 2   date    1599999 non-null  object\n",
      " 3   flag    1599999 non-null  object\n",
      " 4   user    1599999 non-null  object\n",
      " 5   text    1599999 non-null  object\n",
      "dtypes: int64(2), object(4)\n",
      "memory usage: 73.2+ MB\n"
     ]
    }
   ],
   "source": [
    "df.info()"
   ]
  },
  {
   "cell_type": "code",
   "execution_count": 9,
   "id": "d1a216c5",
   "metadata": {
    "_cell_guid": "4985ab83-a10e-47fb-95dd-662c025d81e1",
    "_uuid": "c6d4ffc8-87df-40b3-91f2-6972c8368824",
    "collapsed": false,
    "execution": {
     "iopub.execute_input": "2022-10-31T17:23:16.526104Z",
     "iopub.status.busy": "2022-10-31T17:23:16.525414Z",
     "iopub.status.idle": "2022-10-31T17:23:16.839190Z",
     "shell.execute_reply": "2022-10-31T17:23:16.838092Z"
    },
    "jupyter": {
     "outputs_hidden": false
    },
    "papermill": {
     "duration": 0.337166,
     "end_time": "2022-10-31T17:23:16.841765",
     "exception": false,
     "start_time": "2022-10-31T17:23:16.504599",
     "status": "completed"
    },
    "tags": []
   },
   "outputs": [
    {
     "data": {
      "text/plain": [
       "target    0\n",
       "ids       0\n",
       "date      0\n",
       "flag      0\n",
       "user      0\n",
       "text      0\n",
       "dtype: int64"
      ]
     },
     "execution_count": 9,
     "metadata": {},
     "output_type": "execute_result"
    }
   ],
   "source": [
    "#checking if there are empty columns\n",
    "df.isnull().sum()"
   ]
  },
  {
   "cell_type": "markdown",
   "id": "23442c2f",
   "metadata": {
    "_cell_guid": "901aa3e1-784c-4efd-9834-6375bad63c8a",
    "_uuid": "962aca10-dedb-40da-90ba-e54a13c315d8",
    "papermill": {
     "duration": 0.017814,
     "end_time": "2022-10-31T17:23:16.878917",
     "exception": false,
     "start_time": "2022-10-31T17:23:16.861103",
     "status": "completed"
    },
    "tags": []
   },
   "source": [
    "there aren't any empty columns."
   ]
  },
  {
   "cell_type": "markdown",
   "id": "0fab9811",
   "metadata": {
    "_cell_guid": "a5f9a500-254b-4fd6-a4bd-2880e6a2412e",
    "_uuid": "329729ad-48b4-428c-9273-940b9a6f1906",
    "papermill": {
     "duration": 0.018217,
     "end_time": "2022-10-31T17:23:16.915287",
     "exception": false,
     "start_time": "2022-10-31T17:23:16.897070",
     "status": "completed"
    },
    "tags": []
   },
   "source": [
    "# ***Text stats***"
   ]
  },
  {
   "cell_type": "code",
   "execution_count": 10,
   "id": "c2941a46",
   "metadata": {
    "_cell_guid": "590310f2-cfca-4c4d-9d07-5ffad06e8799",
    "_uuid": "4e312952-090e-41e5-be07-cc3f5624f693",
    "collapsed": false,
    "execution": {
     "iopub.execute_input": "2022-10-31T17:23:16.953668Z",
     "iopub.status.busy": "2022-10-31T17:23:16.953266Z",
     "iopub.status.idle": "2022-10-31T17:23:16.958100Z",
     "shell.execute_reply": "2022-10-31T17:23:16.956917Z"
    },
    "jupyter": {
     "outputs_hidden": false
    },
    "papermill": {
     "duration": 0.026794,
     "end_time": "2022-10-31T17:23:16.960390",
     "exception": false,
     "start_time": "2022-10-31T17:23:16.933596",
     "status": "completed"
    },
    "tags": []
   },
   "outputs": [],
   "source": [
    "texts = df['text']   #we aisolate the text column to analyze it"
   ]
  },
  {
   "cell_type": "code",
   "execution_count": 11,
   "id": "a4392346",
   "metadata": {
    "_cell_guid": "bc299c46-30f6-4316-8288-abfcf9dc4e24",
    "_uuid": "442cc947-851c-45c0-9504-e7b2305c2387",
    "collapsed": false,
    "execution": {
     "iopub.execute_input": "2022-10-31T17:23:16.999565Z",
     "iopub.status.busy": "2022-10-31T17:23:16.999166Z",
     "iopub.status.idle": "2022-10-31T17:23:18.627764Z",
     "shell.execute_reply": "2022-10-31T17:23:18.626490Z"
    },
    "jupyter": {
     "outputs_hidden": false
    },
    "papermill": {
     "duration": 1.651096,
     "end_time": "2022-10-31T17:23:18.630533",
     "exception": false,
     "start_time": "2022-10-31T17:23:16.979437",
     "status": "completed"
    },
    "tags": []
   },
   "outputs": [],
   "source": [
    "text_lens = [len(t.split()) for t in texts.values]  #we make a wordcount of every text and we get the mean.\n",
    "len_mean = np.mean(text_lens)"
   ]
  },
  {
   "cell_type": "code",
   "execution_count": 12,
   "id": "a4ab04ed",
   "metadata": {
    "_cell_guid": "36e0c4cb-f650-4e1e-9ac1-fdfe4bb9b2b6",
    "_uuid": "3f1b661c-a62a-4bed-b013-1c8c9148f705",
    "collapsed": false,
    "execution": {
     "iopub.execute_input": "2022-10-31T17:23:18.670161Z",
     "iopub.status.busy": "2022-10-31T17:23:18.669757Z",
     "iopub.status.idle": "2022-10-31T17:23:27.827782Z",
     "shell.execute_reply": "2022-10-31T17:23:27.826588Z"
    },
    "jupyter": {
     "outputs_hidden": false
    },
    "papermill": {
     "duration": 9.180519,
     "end_time": "2022-10-31T17:23:27.829982",
     "exception": false,
     "start_time": "2022-10-31T17:23:18.649463",
     "status": "completed"
    },
    "tags": []
   },
   "outputs": [
    {
     "name": "stderr",
     "output_type": "stream",
     "text": [
      "/opt/conda/lib/python3.7/site-packages/seaborn/_decorators.py:43: FutureWarning: Pass the following variable as a keyword arg: x. From version 0.12, the only valid positional argument will be `data`, and passing other arguments without an explicit keyword will result in an error or misinterpretation.\n",
      "  FutureWarning\n"
     ]
    },
    {
     "data": {
      "image/png": "[encoded data removed]",
      "text/plain": [
       "<Figure size 1080x576 with 2 Axes>"
      ]
     },
     "metadata": {
      "needs_background": "light"
     },
     "output_type": "display_data"
    }
   ],
   "source": [
    "#we plot the wordcount and its mean\n",
    "\n",
    "fig, axes = plt.subplots(2, 1, figsize=(15, 8))\n",
    "axes[0].set_title('Distribution of number of tokens in tweets')\n",
    "sns.boxplot(text_lens, ax=axes[0])\n",
    "sns.histplot(text_lens, bins=60, kde=True, ax=axes[1])\n",
    "axes[1].vlines(len_mean, 0, 130000, color = 'r')\n",
    "plt.annotate(\"mean\", xy=(len_mean, 130000), xytext=(len_mean-2, 130000),\n",
    "            color='r')\n",
    "plt.show()"
   ]
  },
  {
   "cell_type": "code",
   "execution_count": 13,
   "id": "33a2e366",
   "metadata": {
    "_cell_guid": "add30c8f-9adf-4d32-b87e-5acfe041605b",
    "_uuid": "77d9920e-1e0e-4b30-927f-e9188f965d64",
    "collapsed": false,
    "execution": {
     "iopub.execute_input": "2022-10-31T17:23:27.871930Z",
     "iopub.status.busy": "2022-10-31T17:23:27.871233Z",
     "iopub.status.idle": "2022-10-31T17:23:27.988269Z",
     "shell.execute_reply": "2022-10-31T17:23:27.987034Z"
    },
    "jupyter": {
     "outputs_hidden": false
    },
    "papermill": {
     "duration": 0.139689,
     "end_time": "2022-10-31T17:23:27.990545",
     "exception": false,
     "start_time": "2022-10-31T17:23:27.850856",
     "status": "completed"
    },
    "tags": []
   },
   "outputs": [
    {
     "name": "stdout",
     "output_type": "stream",
     "text": [
      "23\n"
     ]
    }
   ],
   "source": [
    "outliers = df['text'][np.array(text_lens) > 35] # now we try to identify and exclude the outliers\n",
    "print(len(outliers))"
   ]
  },
  {
   "cell_type": "code",
   "execution_count": 14,
   "id": "efea2de7",
   "metadata": {
    "_cell_guid": "918be182-9867-4fe1-bccc-64452cbfcd49",
    "_uuid": "416ad193-6730-46e6-8b7c-dc8513f8daeb",
    "collapsed": false,
    "execution": {
     "iopub.execute_input": "2022-10-31T17:23:28.030259Z",
     "iopub.status.busy": "2022-10-31T17:23:28.029347Z",
     "iopub.status.idle": "2022-10-31T17:23:28.037327Z",
     "shell.execute_reply": "2022-10-31T17:23:28.036241Z"
    },
    "jupyter": {
     "outputs_hidden": false
    },
    "papermill": {
     "duration": 0.03176,
     "end_time": "2022-10-31T17:23:28.041139",
     "exception": false,
     "start_time": "2022-10-31T17:23:28.009379",
     "status": "completed"
    },
    "tags": []
   },
   "outputs": [
    {
     "name": "stdout",
     "output_type": "stream",
     "text": [
      "109663 Target 0\n",
      "Who Am I Lying ! ? ! I Know , You Know , We All Know , My Ass Is Still Gonna Be Up . Hehe . My Ass Can't Sleep . I Need Help . For Real ! \n",
      "//////////////////////////////////////////////////////////////////////////////////////////////////////////////////////////// \n",
      "\n",
      "336343 Target 0\n",
      "I never get 2 c u as often as I like,I never get 2 hug in my every nite  but in my heart i know u r the one i luv n can't never let u go\n",
      "//////////////////////////////////////////////////////////////////////////////////////////////////////////////////////////// \n",
      "\n",
      "374041 Target 0\n",
      "I hate this , why does he have to be my step cousin  oh well , he keeps comin on to me ;) ha ha im in such a good mood , jesus , im tw ...\n",
      "//////////////////////////////////////////////////////////////////////////////////////////////////////////////////////////// \n",
      "\n",
      "461027 Target 0\n",
      "Is the saddest zornes ever thanks to the magic ( :  ( :  ( :  ( :  ( :  (  :  ( :  ( :  ( :  ( :  ( :  ( :  ( :  ( :  ( :  ( :  ( :   ...\n",
      "//////////////////////////////////////////////////////////////////////////////////////////////////////////////////////////// \n",
      "\n",
      "461272 Target 0\n",
      "Ok ok . . . lol . . . I was gonna tell u . . . ha ha, but me MIJO is my dog! A very very bad one might I add! He destroys EvERYthng! \n",
      "//////////////////////////////////////////////////////////////////////////////////////////////////////////////////////////// \n",
      "\n",
      "526580 Target 0\n",
      "@LaurenConrad â",
      "â",
      "â",
      " â¥ â¥ â¥ L.A. Candy â¥ â¥ â¥  I want a signet book LA is so far where can I get a in Germany  â",
      "â",
      "â",
      "i Orders one by amazon  3wâ\n",
      "//////////////////////////////////////////////////////////////////////////////////////////////////////////////////////////// \n",
      "\n",
      "532717 Target 0\n",
      "Okay I'm Up - I'm Up! Wow, the sun is out, the sky is blue I'm off work that sucks for you   Hey I made it rhyme again. T e r r r i c k!\n",
      "//////////////////////////////////////////////////////////////////////////////////////////////////////////////////////////// \n",
      "\n",
      "582334 Target 0\n",
      "So AT&amp;T cnt kp up wit all the tweets I rcv via txt msg so I hv 2 tk a break!  I am so UPSET! wut am I gonna do bout keepn up wit my peeps?\n",
      "//////////////////////////////////////////////////////////////////////////////////////////////////////////////////////////// \n",
      "\n",
      "675527 Target 0\n",
      "Tá»i hum wa mÃ¬nh ko tÃ i nÃ o ngá»§ ÄÆ°á»£c vÃ¬...bá» ngÃ¡y to ko chá»u ÄÆ°á»£c, cá»© khÃ² khÃ¨, hÃ¬nh nhÆ° bá» mÃ¬nh má»i Än pháº£i cÃ¡i á»ng khÃ³i tÃ u hoáº£ hay sao Ã­ \n",
      "//////////////////////////////////////////////////////////////////////////////////////////////////////////////////////////// \n",
      "\n",
      "770355 Target 0\n",
      "I'm so boreeeeed. . . . . . . . . . . . . . . . . . . . . . . . . . . . . . . . . . . . . . . . . . . . . . . . . . . . .I need internet. \n",
      "//////////////////////////////////////////////////////////////////////////////////////////////////////////////////////////// \n",
      "\n",
      "852963 Target 4\n",
      "@ddlovato don't care bout ppl who r saying u r too fat &amp; then u r too skinny  I like u as u r &amp; u r my role model  I love u pls write back\n",
      "//////////////////////////////////////////////////////////////////////////////////////////////////////////////////////////// \n",
      "\n",
      "870821 Target 4\n",
      "; Math = 63% , English = 100% , French = 83% , Science = 88% , History = 89% , Info = 37% , Dance = 94% , Gym = 74% , Moral = 61% ! Woot \n",
      "//////////////////////////////////////////////////////////////////////////////////////////////////////////////////////////// \n",
      "\n",
      "971527 Target 4\n",
      "Shout out 2 all my followers .. I got it . I got it. I got ya . I got u . I got us. I got twitta . I got boston winin game 7 . I'm lmao 2 \n",
      "//////////////////////////////////////////////////////////////////////////////////////////////////////////////////////////// \n",
      "\n",
      "978443 Target 4\n",
      "My mom told me the other day my dad wants my car. Told her if he wants 2 buy it he can. But it has 2 b 4 enough that i can buy a new car \n",
      "//////////////////////////////////////////////////////////////////////////////////////////////////////////////////////////// \n",
      "\n",
      "981533 Target 4\n",
      "@ajayrochester DO IT DO IT DO IT DO IT DO IT DO IT DO IT DO IT DO IT DO IT DO IT DO IT DO IT DO IT DO IT DO IT DO IT DO IT DO IT DO IT \n",
      "//////////////////////////////////////////////////////////////////////////////////////////////////////////////////////////// \n",
      "\n",
      "1006770 Target 4\n",
      "If E x N = 12, L + X = 4 and K-T = 1. What does W + M = ? Answer at Mensa from 26th. PM me if you want to know why i say 8 is the answer \n",
      "//////////////////////////////////////////////////////////////////////////////////////////////////////////////////////////// \n",
      "\n",
      "1079510 Target 4\n",
      "? ? ? ? ? ? ? ? ? ? ? ? ? ? ? ? ? ? ?    ? ? ? ? ? ? ? ? ? ? ? ? ? ? ? ? ? ? ?     ? ? ? ? ? ? ? ? ? ? ? ? ? ? ? ? ? ? ?  twitterart \n",
      "//////////////////////////////////////////////////////////////////////////////////////////////////////////////////////////// \n",
      "\n",
      "1080010 Target 4\n",
      "? ? ? ? ? ? ? ?? ? ? ? ? ? ? ? ? ? ? ? ? ? ? ? ? ? ? ? ? ? ? ? ? ? ? ? ? ? ? ? ? ? ? ? ? ? ? ? ? ? ? ? ? ? ? ? ? ? ? ? ? ? ? ?Take that \n",
      "//////////////////////////////////////////////////////////////////////////////////////////////////////////////////////////// \n",
      "\n",
      "1097561 Target 4\n",
      "I'm blue Da ba dee da ba di da ba dee da ba di da ba dee da ba di da ba dee da ba di da ba dee da ba di   the orginal is the only good one\n",
      "//////////////////////////////////////////////////////////////////////////////////////////////////////////////////////////// \n",
      "\n",
      "1231573 Target 4\n",
      "@doax ì´ì°¨í¼ bandwidthë ë¶ì° íì?¼ ìì¤í",
      "ì? ë§ëëê² ìëë¤ë©´ ì?¼ë°ì?¸ê³¼ë í?° ì?ë¯¸ê° ìì§ ìë ì¶ì´ì  ìì? ì¬ë¬ íì?¼ë¤ì?´ ë? ë¹¨ë¦¬ ì?½íì§ëê² í?° ì?ì?ê° ìì? ë¯. ê·¸ëì ë ê³ ì©ë SSDë ê°ê²©ë? ê°ê²©ì?´ê² ì§ë§ ìì ì±ì? ì¢ ê±±ì ë?ëë?°ì.\n",
      "//////////////////////////////////////////////////////////////////////////////////////////////////////////////////////////// \n",
      "\n",
      "1308366 Target 4\n",
      "#self_info 2ë¬ë? ê°ë°ì?... ì?¸ê°ì ?ì?¸ ê°ë°ì?ë¥¼ ê¿ê¿ëë¤. íì¬ ì§ì­ê´ê³ ìë²ë¥¼ íê³ , ê°ì?¸ì ?ì¼ë¡ë ê²ììì§ì? ë§ë¤ë ¤ê³  ì¤ë¹ì¤ì",
      "ëë¤. ì¤ë¹. . .ã",
      "ã",
      "ã",
      " íë¡ì° ê³ ê³ ê³ ~   ê¸°ì ìì? ì¬ëìì§ ì¬ëìì? ê¸°ì ìë¤~!\n",
      "//////////////////////////////////////////////////////////////////////////////////////////////////////////////////////////// \n",
      "\n",
      "1416591 Target 4\n",
      "hi miley can u email me if i give u my email im 13 and ur bigest fan i wont to became a singer just like u im ur #1 fan yay ur my idle !! \n",
      "//////////////////////////////////////////////////////////////////////////////////////////////////////////////////////////// \n",
      "\n",
      "1590299 Target 4\n",
      "4 I am high &amp; u can see. 4 I am lost &amp; u find me. 4 I am held &amp; u break free. Well I am am &amp; u can only wish to be of such a masterpiece. \n",
      "//////////////////////////////////////////////////////////////////////////////////////////////////////////////////////////// \n",
      "\n"
     ]
    }
   ],
   "source": [
    "for idx in outliers.index:\n",
    "    print(idx, 'Target', df[TARGET][idx])\n",
    "    print(outliers[idx])\n",
    "    print('///////////////////////////////'*4, '\\n')"
   ]
  },
  {
   "cell_type": "markdown",
   "id": "abe5bd25",
   "metadata": {
    "_cell_guid": "892176ba-5549-4ddf-82b2-07af82b7ba6f",
    "_uuid": "1b10f9af-5fa2-46a7-99cf-366cc9811f45",
    "papermill": {
     "duration": 0.019193,
     "end_time": "2022-10-31T17:23:28.082247",
     "exception": false,
     "start_time": "2022-10-31T17:23:28.063054",
     "status": "completed"
    },
    "tags": []
   },
   "source": [
    "*As we can see these outliers seem to be fairly legitimate examples, the ones who don't are mainly because of punctuation exceses and that we can get rid off in the preprocessing step*"
   ]
  },
  {
   "cell_type": "markdown",
   "id": "94ef5b02",
   "metadata": {
    "_cell_guid": "437db0ab-cbad-4354-8053-11a82702f35f",
    "_uuid": "dfdccf25-336c-4793-831c-0f4da9019807",
    "papermill": {
     "duration": 0.018769,
     "end_time": "2022-10-31T17:23:28.120221",
     "exception": false,
     "start_time": "2022-10-31T17:23:28.101452",
     "status": "completed"
    },
    "tags": []
   },
   "source": [
    "# Target Analysis"
   ]
  },
  {
   "cell_type": "code",
   "execution_count": 15,
   "id": "fa29282d",
   "metadata": {
    "_cell_guid": "53bacd6c-f6ad-4127-aaa6-8028873e14c9",
    "_uuid": "36317d9b-6f8f-4103-99c2-7ee34a2c4831",
    "collapsed": false,
    "execution": {
     "iopub.execute_input": "2022-10-31T17:23:28.160383Z",
     "iopub.status.busy": "2022-10-31T17:23:28.160001Z",
     "iopub.status.idle": "2022-10-31T17:23:28.181883Z",
     "shell.execute_reply": "2022-10-31T17:23:28.180717Z"
    },
    "jupyter": {
     "outputs_hidden": false
    },
    "papermill": {
     "duration": 0.044936,
     "end_time": "2022-10-31T17:23:28.184471",
     "exception": false,
     "start_time": "2022-10-31T17:23:28.139535",
     "status": "completed"
    },
    "tags": []
   },
   "outputs": [
    {
     "name": "stdout",
     "output_type": "stream",
     "text": [
      "positive    800000\n",
      "negative    799999\n",
      "Name: target, dtype: int64\n"
     ]
    }
   ],
   "source": [
    "#we change the names\n",
    "sentiment_dict = {0:\"negative\", 4:\"positive\"}\n",
    "\n",
    "\n",
    "target_balance = df[TARGET].value_counts().rename(index=sentiment_dict)\n",
    "\n",
    "\n",
    "\n",
    "\n",
    "print(target_balance)"
   ]
  },
  {
   "cell_type": "code",
   "execution_count": 16,
   "id": "1c76eb01",
   "metadata": {
    "_cell_guid": "b1b6596e-11b5-42ae-8815-62cd85f39c9f",
    "_uuid": "401344e6-8850-43cc-95b3-00cdbc828c79",
    "collapsed": false,
    "execution": {
     "iopub.execute_input": "2022-10-31T17:23:28.224687Z",
     "iopub.status.busy": "2022-10-31T17:23:28.224280Z",
     "iopub.status.idle": "2022-10-31T17:23:28.334799Z",
     "shell.execute_reply": "2022-10-31T17:23:28.333474Z"
    },
    "jupyter": {
     "outputs_hidden": false
    },
    "papermill": {
     "duration": 0.135619,
     "end_time": "2022-10-31T17:23:28.339467",
     "exception": false,
     "start_time": "2022-10-31T17:23:28.203848",
     "status": "completed"
    },
    "tags": []
   },
   "outputs": [
    {
     "data": {
      "image/png": "[encoded data removed]",
      "text/plain": [
       "<Figure size 360x360 with 1 Axes>"
      ]
     },
     "metadata": {},
     "output_type": "display_data"
    }
   ],
   "source": [
    "#now we plot the distribution\n",
    "\n",
    "plt.figure(figsize=(5, 5))\n",
    "plt.pie(target_balance, labels=[f'{idx}\\n{round(target_balance[idx]/len(df), 2)}' for idx in target_balance.index], \n",
    "        colors=['r', '#00FF00'])\n",
    "plt.title('Proportions of target classes')\n",
    "plt.show()"
   ]
  },
  {
   "cell_type": "markdown",
   "id": "de3d9b38",
   "metadata": {
    "_cell_guid": "2c75ea7d-e599-4ff8-9c4e-ef4574f4c419",
    "_uuid": "41b4b605-29a9-4a06-91a2-b3b65636eb74",
    "papermill": {
     "duration": 0.034763,
     "end_time": "2022-10-31T17:23:28.424354",
     "exception": false,
     "start_time": "2022-10-31T17:23:28.389591",
     "status": "completed"
    },
    "tags": []
   },
   "source": [
    "Target categories are equal size, so resampling is not required."
   ]
  },
  {
   "cell_type": "code",
   "execution_count": 17,
   "id": "0c8b4df9",
   "metadata": {
    "_cell_guid": "d466e702-049a-4d32-a3a5-6b28a51df7fe",
    "_uuid": "8d39a642-501c-4491-a6f7-cd91a91bffed",
    "collapsed": false,
    "execution": {
     "iopub.execute_input": "2022-10-31T17:23:28.465234Z",
     "iopub.status.busy": "2022-10-31T17:23:28.464303Z",
     "iopub.status.idle": "2022-10-31T17:24:27.390359Z",
     "shell.execute_reply": "2022-10-31T17:24:27.389012Z"
    },
    "jupyter": {
     "outputs_hidden": false
    },
    "papermill": {
     "duration": 58.949436,
     "end_time": "2022-10-31T17:24:27.393216",
     "exception": false,
     "start_time": "2022-10-31T17:23:28.443780",
     "status": "completed"
    },
    "tags": []
   },
   "outputs": [],
   "source": [
    "# top words\n",
    "from nltk.corpus import stopwords\n",
    "stopwords_list = stopwords.words('english')\n",
    "#let's extend the list to add \"im\" as we found it was not originally in the stopword list\n",
    "stopwords_list.append(\"im\")\n",
    "\n",
    "word_counts = { 4: [],  #positive\n",
    "                0: []}  #negative\n",
    "\n",
    "pattern = re.compile('[^\\w ]')\n",
    "for text, target in zip(df['text'], df[TARGET]):\n",
    "    text = re.sub(pattern, '', text).lower().split()\n",
    "    text = [word for word in text if word not in stopwords_list]\n",
    "    word_counts[target].extend(text)"
   ]
  },
  {
   "cell_type": "code",
   "execution_count": 18,
   "id": "be7e2a66",
   "metadata": {
    "_cell_guid": "b029ea10-695b-4dc1-b240-8cf4139463be",
    "_uuid": "afaee8cf-2d31-4c4b-b139-71bac4a23053",
    "collapsed": false,
    "execution": {
     "iopub.execute_input": "2022-10-31T17:24:27.436542Z",
     "iopub.status.busy": "2022-10-31T17:24:27.436135Z",
     "iopub.status.idle": "2022-10-31T17:24:31.766885Z",
     "shell.execute_reply": "2022-10-31T17:24:31.765976Z"
    },
    "jupyter": {
     "outputs_hidden": false
    },
    "papermill": {
     "duration": 4.354975,
     "end_time": "2022-10-31T17:24:31.769083",
     "exception": false,
     "start_time": "2022-10-31T17:24:27.414108",
     "status": "completed"
    },
    "tags": []
   },
   "outputs": [
    {
     "data": {
      "image/png": "[encoded data removed]",
      "text/plain": [
       "<Figure size 1440x756 with 2 Axes>"
      ]
     },
     "metadata": {
      "needs_background": "light"
     },
     "output_type": "display_data"
    }
   ],
   "source": [
    "fig, axes = plt.subplots(1, 2, figsize=(20,10.5))\n",
    "def changename(target):\n",
    "    if target == 4:\n",
    "        return (\"positive\")\n",
    "    else:\n",
    "        return (\"negative\")\n",
    "for axis, (target, words) in zip(axes.flatten(), word_counts.items()):\n",
    "    bar_info = pd.Series(words).value_counts()[:25]\n",
    "    sns.barplot(x=bar_info.values, y=bar_info.index, ax=axis)\n",
    "    axis.set_title(f'Top words for {changename(target)}')\n",
    "plt.show()"
   ]
  },
  {
   "cell_type": "code",
   "execution_count": 19,
   "id": "dad3c2ba",
   "metadata": {
    "_cell_guid": "f8e308f0-d049-451b-85dd-589c67449908",
    "_uuid": "60819957-1cf7-4a35-8f38-896392fbc996",
    "collapsed": false,
    "execution": {
     "iopub.execute_input": "2022-10-31T17:24:31.812541Z",
     "iopub.status.busy": "2022-10-31T17:24:31.811524Z",
     "iopub.status.idle": "2022-10-31T17:24:31.816023Z",
     "shell.execute_reply": "2022-10-31T17:24:31.815054Z"
    },
    "jupyter": {
     "outputs_hidden": false
    },
    "papermill": {
     "duration": 0.028493,
     "end_time": "2022-10-31T17:24:31.818066",
     "exception": false,
     "start_time": "2022-10-31T17:24:31.789573",
     "status": "completed"
    },
    "tags": []
   },
   "outputs": [],
   "source": [
    "# we can see some similar words but also we can see a clear difference given that the top positive words are words like \"good, love, happy\""
   ]
  },
  {
   "cell_type": "markdown",
   "id": "16811113",
   "metadata": {
    "_cell_guid": "ff26947b-33f1-4504-a6a7-dbe55fa751e3",
    "_uuid": "4f77f6fe-3e16-4f37-b100-a477e4f9f24f",
    "papermill": {
     "duration": 0.019996,
     "end_time": "2022-10-31T17:24:31.859329",
     "exception": false,
     "start_time": "2022-10-31T17:24:31.839333",
     "status": "completed"
    },
    "tags": []
   },
   "source": [
    "# Preprocessing\n",
    "#"
   ]
  },
  {
   "cell_type": "code",
   "execution_count": 20,
   "id": "9f55ecff",
   "metadata": {
    "_cell_guid": "d097ae9a-3baf-4987-a4b4-5a4d020e29b2",
    "_uuid": "86b4893a-ab7c-4703-b18c-5aacba1553a7",
    "collapsed": false,
    "execution": {
     "iopub.execute_input": "2022-10-31T17:24:31.901980Z",
     "iopub.status.busy": "2022-10-31T17:24:31.900941Z",
     "iopub.status.idle": "2022-10-31T17:24:31.907307Z",
     "shell.execute_reply": "2022-10-31T17:24:31.906195Z"
    },
    "jupyter": {
     "outputs_hidden": false
    },
    "papermill": {
     "duration": 0.030726,
     "end_time": "2022-10-31T17:24:31.910208",
     "exception": false,
     "start_time": "2022-10-31T17:24:31.879482",
     "status": "completed"
    },
    "tags": []
   },
   "outputs": [],
   "source": [
    "import nltk\n",
    "from  nltk.stem import SnowballStemmer\n",
    "\n",
    "\n",
    "stop_words = stopwords.words(\"english\")\n",
    "stemmer = SnowballStemmer(\"english\")\n",
    "TO_CLEAN = \"@\\S+|https?:\\S+|http?:\\S|[^A-Za-z0-9]+\""
   ]
  },
  {
   "cell_type": "code",
   "execution_count": 21,
   "id": "8f618b2a",
   "metadata": {
    "_cell_guid": "88d29fc1-b8d4-41b7-af46-17cfbeaca3fa",
    "_uuid": "758dc61f-7bab-4873-acef-bee8bb8e6e77",
    "collapsed": false,
    "execution": {
     "iopub.execute_input": "2022-10-31T17:24:31.960288Z",
     "iopub.status.busy": "2022-10-31T17:24:31.959469Z",
     "iopub.status.idle": "2022-10-31T17:24:31.969551Z",
     "shell.execute_reply": "2022-10-31T17:24:31.967814Z"
    },
    "jupyter": {
     "outputs_hidden": false
    },
    "papermill": {
     "duration": 0.035597,
     "end_time": "2022-10-31T17:24:31.972289",
     "exception": false,
     "start_time": "2022-10-31T17:24:31.936692",
     "status": "completed"
    },
    "tags": []
   },
   "outputs": [],
   "source": [
    "def preprocess(text, stem=False):\n",
    "    # Remove link,user and special characters\n",
    "    text = re.sub(TO_CLEAN, ' ', str(text).lower()).strip()\n",
    "    tokens = []\n",
    "    for token in text.split():\n",
    "        if token not in stop_words:\n",
    "            if stem:\n",
    "                tokens.append(stemmer.stem(token))\n",
    "            else:\n",
    "                tokens.append(token)\n",
    "    return \" \".join(tokens)"
   ]
  },
  {
   "cell_type": "code",
   "execution_count": 22,
   "id": "a909f915",
   "metadata": {
    "_cell_guid": "60115596-8d37-4f56-b8fc-dd7dc905049b",
    "_uuid": "b24462fe-6d8f-48f8-a9b8-51f1f83bbe3f",
    "collapsed": false,
    "execution": {
     "iopub.execute_input": "2022-10-31T17:24:32.026463Z",
     "iopub.status.busy": "2022-10-31T17:24:32.025676Z",
     "iopub.status.idle": "2022-10-31T17:25:35.531185Z",
     "shell.execute_reply": "2022-10-31T17:25:35.529886Z"
    },
    "jupyter": {
     "outputs_hidden": false
    },
    "papermill": {
     "duration": 63.558757,
     "end_time": "2022-10-31T17:25:35.554951",
     "exception": false,
     "start_time": "2022-10-31T17:24:31.996194",
     "status": "completed"
    },
    "tags": []
   },
   "outputs": [
    {
     "name": "stdout",
     "output_type": "stream",
     "text": [
      "CPU times: user 1min 3s, sys: 228 ms, total: 1min 3s\n",
      "Wall time: 1min 3s\n"
     ]
    }
   ],
   "source": [
    "%%time\n",
    "df.text = df.text.apply(lambda x: preprocess(x))"
   ]
  },
  {
   "cell_type": "markdown",
   "id": "6c43cb88",
   "metadata": {
    "_cell_guid": "4851289c-0f1e-4f69-861a-728e5eac22bd",
    "_uuid": "cd769469-992a-4bf4-8b56-911a5d52dd69",
    "papermill": {
     "duration": 0.020098,
     "end_time": "2022-10-31T17:25:35.596271",
     "exception": false,
     "start_time": "2022-10-31T17:25:35.576173",
     "status": "completed"
    },
    "tags": []
   },
   "source": [
    "# Split train and test"
   ]
  },
  {
   "cell_type": "code",
   "execution_count": 23,
   "id": "0091d450",
   "metadata": {
    "_cell_guid": "9f5fe477-5324-467c-912a-e9932cf40b7d",
    "_uuid": "8f1a045e-bb34-470a-a3f0-a2c0b5656753",
    "collapsed": false,
    "execution": {
     "iopub.execute_input": "2022-10-31T17:25:35.640605Z",
     "iopub.status.busy": "2022-10-31T17:25:35.639459Z",
     "iopub.status.idle": "2022-10-31T17:25:36.608017Z",
     "shell.execute_reply": "2022-10-31T17:25:36.606371Z"
    },
    "jupyter": {
     "outputs_hidden": false
    },
    "papermill": {
     "duration": 0.993118,
     "end_time": "2022-10-31T17:25:36.610706",
     "exception": false,
     "start_time": "2022-10-31T17:25:35.617588",
     "status": "completed"
    },
    "tags": []
   },
   "outputs": [
    {
     "name": "stdout",
     "output_type": "stream",
     "text": [
      "TRAIN size: 1279999\n",
      "TEST size: 320000\n"
     ]
    }
   ],
   "source": [
    "TRAIN_SIZE = 0.8\n",
    "df_train, df_test = train_test_split(df, test_size=1-TRAIN_SIZE, random_state=42)\n",
    "print(\"TRAIN size:\", len(df_train))\n",
    "print(\"TEST size:\", len(df_test))"
   ]
  },
  {
   "cell_type": "markdown",
   "id": "57be31c4",
   "metadata": {
    "_cell_guid": "9140f6e0-d77b-4849-96cb-7d73c7d6007e",
    "_uuid": "9abd5249-5699-4508-be00-c28258703996",
    "papermill": {
     "duration": 0.02347,
     "end_time": "2022-10-31T17:25:36.655895",
     "exception": false,
     "start_time": "2022-10-31T17:25:36.632425",
     "status": "completed"
    },
    "tags": []
   },
   "source": [
    "# Word2Vec"
   ]
  },
  {
   "cell_type": "code",
   "execution_count": 24,
   "id": "b261b86c",
   "metadata": {
    "_cell_guid": "3c5586c1-b1a7-4153-a9c7-a28867d63030",
    "_uuid": "a7a2e0dc-d564-4bed-86a0-a302d440521b",
    "collapsed": false,
    "execution": {
     "iopub.execute_input": "2022-10-31T17:25:36.701305Z",
     "iopub.status.busy": "2022-10-31T17:25:36.700911Z",
     "iopub.status.idle": "2022-10-31T17:25:41.888673Z",
     "shell.execute_reply": "2022-10-31T17:25:41.887552Z"
    },
    "jupyter": {
     "outputs_hidden": false
    },
    "papermill": {
     "duration": 5.213725,
     "end_time": "2022-10-31T17:25:41.891799",
     "exception": false,
     "start_time": "2022-10-31T17:25:36.678074",
     "status": "completed"
    },
    "tags": []
   },
   "outputs": [
    {
     "name": "stdout",
     "output_type": "stream",
     "text": [
      "CPU times: user 4.69 s, sys: 501 ms, total: 5.19 s\n",
      "Wall time: 5.18 s\n"
     ]
    }
   ],
   "source": [
    "%%time\n",
    "documents = [_text.split() for _text in df_train.text]"
   ]
  },
  {
   "cell_type": "code",
   "execution_count": 25,
   "id": "8cb97e42",
   "metadata": {
    "_cell_guid": "2206bd8b-abfc-4210-8f4b-a336de4b9f50",
    "_uuid": "5b0acc25-6dcd-4da8-80d8-2733b97d3227",
    "collapsed": false,
    "execution": {
     "iopub.execute_input": "2022-10-31T17:25:41.941137Z",
     "iopub.status.busy": "2022-10-31T17:25:41.940684Z",
     "iopub.status.idle": "2022-10-31T17:25:41.947360Z",
     "shell.execute_reply": "2022-10-31T17:25:41.945830Z"
    },
    "jupyter": {
     "outputs_hidden": false
    },
    "papermill": {
     "duration": 0.037208,
     "end_time": "2022-10-31T17:25:41.950930",
     "exception": false,
     "start_time": "2022-10-31T17:25:41.913722",
     "status": "completed"
    },
    "tags": []
   },
   "outputs": [
    {
     "name": "stdout",
     "output_type": "stream",
     "text": [
      "['second', 'get', 'back', 'haha']\n"
     ]
    }
   ],
   "source": [
    "print(documents[0])"
   ]
  },
  {
   "cell_type": "code",
   "execution_count": 26,
   "id": "63a680c3",
   "metadata": {
    "_cell_guid": "0a4f179c-bfa8-4f68-ac89-d6c5b2398512",
    "_uuid": "66d1efe7-6a54-42fd-be14-9b6a10221ba6",
    "collapsed": false,
    "execution": {
     "iopub.execute_input": "2022-10-31T17:25:41.994988Z",
     "iopub.status.busy": "2022-10-31T17:25:41.994267Z",
     "iopub.status.idle": "2022-10-31T17:25:42.161035Z",
     "shell.execute_reply": "2022-10-31T17:25:42.159916Z"
    },
    "jupyter": {
     "outputs_hidden": false
    },
    "papermill": {
     "duration": 0.191979,
     "end_time": "2022-10-31T17:25:42.164036",
     "exception": false,
     "start_time": "2022-10-31T17:25:41.972057",
     "status": "completed"
    },
    "tags": []
   },
   "outputs": [],
   "source": [
    "# we use this algorithm to learn word associations from a large corpus of text.\n",
    "import gensim\n",
    "\n",
    "W2V_SIZE = 300\n",
    "W2V_WINDOW = 7\n",
    "W2V_EPOCH = 32\n",
    "W2V_MIN_COUNT = 10\n",
    "\n",
    "\n",
    "\n",
    "w2v_model = gensim.models.word2vec.Word2Vec(vector_size=W2V_SIZE, \n",
    "                                            window=W2V_WINDOW, \n",
    "                                            min_count=W2V_MIN_COUNT, \n",
    "                                            workers=8)"
   ]
  },
  {
   "cell_type": "code",
   "execution_count": 27,
   "id": "63bdd0d1",
   "metadata": {
    "_cell_guid": "2ea82d75-b193-459b-bea6-d762d8aa6f8b",
    "_uuid": "091975ba-2f8e-400a-8124-be97f9ac1c82",
    "collapsed": false,
    "execution": {
     "iopub.execute_input": "2022-10-31T17:25:42.208576Z",
     "iopub.status.busy": "2022-10-31T17:25:42.208030Z",
     "iopub.status.idle": "2022-10-31T17:25:46.305660Z",
     "shell.execute_reply": "2022-10-31T17:25:46.304425Z"
    },
    "jupyter": {
     "outputs_hidden": false
    },
    "papermill": {
     "duration": 4.123294,
     "end_time": "2022-10-31T17:25:46.308480",
     "exception": false,
     "start_time": "2022-10-31T17:25:42.185186",
     "status": "completed"
    },
    "tags": []
   },
   "outputs": [],
   "source": [
    "w2v_model.build_vocab(documents)"
   ]
  },
  {
   "cell_type": "code",
   "execution_count": 28,
   "id": "0815f64b",
   "metadata": {
    "_cell_guid": "bd4d9b53-1e80-4940-944e-1d84c7a80900",
    "_uuid": "fe365972-e20a-4c60-a6a7-76cbd35053ba",
    "collapsed": false,
    "execution": {
     "iopub.execute_input": "2022-10-31T17:25:46.351059Z",
     "iopub.status.busy": "2022-10-31T17:25:46.350659Z",
     "iopub.status.idle": "2022-10-31T17:25:46.357029Z",
     "shell.execute_reply": "2022-10-31T17:25:46.355982Z"
    },
    "jupyter": {
     "outputs_hidden": false
    },
    "papermill": {
     "duration": 0.030527,
     "end_time": "2022-10-31T17:25:46.359810",
     "exception": false,
     "start_time": "2022-10-31T17:25:46.329283",
     "status": "completed"
    },
    "tags": []
   },
   "outputs": [
    {
     "name": "stdout",
     "output_type": "stream",
     "text": [
      "Vocab size 30298\n"
     ]
    }
   ],
   "source": [
    "words = list(w2v_model.wv.index_to_key)\n",
    "vocab_size = len(words)\n",
    "print(\"Vocab size\", vocab_size)"
   ]
  },
  {
   "cell_type": "code",
   "execution_count": 29,
   "id": "527870c3",
   "metadata": {
    "_cell_guid": "3452dfce-f76e-463f-8e29-df8555163027",
    "_uuid": "2f062620-301f-4672-a599-bd21cf35ae58",
    "collapsed": false,
    "execution": {
     "iopub.execute_input": "2022-10-31T17:25:46.402366Z",
     "iopub.status.busy": "2022-10-31T17:25:46.401983Z",
     "iopub.status.idle": "2022-10-31T17:32:17.570981Z",
     "shell.execute_reply": "2022-10-31T17:32:17.570215Z"
    },
    "jupyter": {
     "outputs_hidden": false
    },
    "papermill": {
     "duration": 391.213076,
     "end_time": "2022-10-31T17:32:17.593205",
     "exception": false,
     "start_time": "2022-10-31T17:25:46.380129",
     "status": "completed"
    },
    "tags": []
   },
   "outputs": [
    {
     "name": "stdout",
     "output_type": "stream",
     "text": [
      "CPU times: user 23min 1s, sys: 5.98 s, total: 23min 7s\n",
      "Wall time: 6min 31s\n"
     ]
    },
    {
     "data": {
      "text/plain": [
       "(263117460, 295311488)"
      ]
     },
     "execution_count": 29,
     "metadata": {},
     "output_type": "execute_result"
    }
   ],
   "source": [
    "%%time\n",
    "w2v_model.train(documents, total_examples=len(documents), epochs=W2V_EPOCH)"
   ]
  },
  {
   "cell_type": "code",
   "execution_count": 30,
   "id": "dd1f59b7",
   "metadata": {
    "_cell_guid": "bbfe0d79-9fe2-41a4-9d14-c08905f7009d",
    "_uuid": "2d93d239-fddc-4e7c-b075-50b704eae42a",
    "collapsed": false,
    "execution": {
     "iopub.execute_input": "2022-10-31T17:32:17.635765Z",
     "iopub.status.busy": "2022-10-31T17:32:17.635351Z",
     "iopub.status.idle": "2022-10-31T17:32:17.671666Z",
     "shell.execute_reply": "2022-10-31T17:32:17.670387Z"
    },
    "jupyter": {
     "outputs_hidden": false
    },
    "papermill": {
     "duration": 0.062063,
     "end_time": "2022-10-31T17:32:17.675438",
     "exception": false,
     "start_time": "2022-10-31T17:32:17.613375",
     "status": "completed"
    },
    "tags": []
   },
   "outputs": [
    {
     "data": {
      "text/plain": [
       "[('luv', 0.5739820003509521),\n",
       " ('loves', 0.5682447552680969),\n",
       " ('adore', 0.5552590489387512),\n",
       " ('loved', 0.5369616746902466),\n",
       " ('looove', 0.4915406405925751),\n",
       " ('amazing', 0.48298078775405884),\n",
       " ('loove', 0.46452847123146057),\n",
       " ('lovee', 0.46065524220466614),\n",
       " ('loooove', 0.45852166414260864),\n",
       " ('awesome', 0.454825758934021)]"
      ]
     },
     "execution_count": 30,
     "metadata": {},
     "output_type": "execute_result"
    }
   ],
   "source": [
    "w2v_model.wv.most_similar(\"love\")"
   ]
  },
  {
   "cell_type": "markdown",
   "id": "d127af81",
   "metadata": {
    "_cell_guid": "d21e67a1-fc3c-4ebd-9422-1d397851b2fe",
    "_uuid": "60de32d1-8a67-491d-aa6a-b3f9995fb0bd",
    "papermill": {
     "duration": 0.053055,
     "end_time": "2022-10-31T17:32:17.782583",
     "exception": false,
     "start_time": "2022-10-31T17:32:17.729528",
     "status": "completed"
    },
    "tags": []
   },
   "source": [
    "# Tokenize Text"
   ]
  },
  {
   "cell_type": "code",
   "execution_count": 31,
   "id": "c7aa2365",
   "metadata": {
    "_cell_guid": "57dea2c4-081e-4dee-b152-3e119189420b",
    "_uuid": "8e4b45ed-bd35-483c-81d0-bbd0d97b14f3",
    "collapsed": false,
    "execution": {
     "iopub.execute_input": "2022-10-31T17:32:17.825937Z",
     "iopub.status.busy": "2022-10-31T17:32:17.825537Z",
     "iopub.status.idle": "2022-10-31T17:32:38.906218Z",
     "shell.execute_reply": "2022-10-31T17:32:38.904740Z"
    },
    "jupyter": {
     "outputs_hidden": false
    },
    "papermill": {
     "duration": 21.105191,
     "end_time": "2022-10-31T17:32:38.908608",
     "exception": false,
     "start_time": "2022-10-31T17:32:17.803417",
     "status": "completed"
    },
    "tags": []
   },
   "outputs": [
    {
     "name": "stdout",
     "output_type": "stream",
     "text": [
      "Total words 290442\n",
      "CPU times: user 21 s, sys: 111 ms, total: 21.1 s\n",
      "Wall time: 21.1 s\n"
     ]
    }
   ],
   "source": [
    "%%time\n",
    "from keras.preprocessing.text import Tokenizer\n",
    "\n",
    "tokenizer = Tokenizer()\n",
    "tokenizer.fit_on_texts(df_train.text) \n",
    "# Updates internal vocabulary based on a list of texts. This method creates the vocabulary index based on word frequency\n",
    "\n",
    "vocab_size = len(tokenizer.word_index) + 1\n",
    "print(\"Total words\", vocab_size)"
   ]
  },
  {
   "cell_type": "code",
   "execution_count": 32,
   "id": "e17b0432",
   "metadata": {
    "_cell_guid": "2012ed4c-5de3-43d1-ae7f-2d0b5d1afa43",
    "_uuid": "75ad00c9-ca56-4658-9245-0477e8098a12",
    "collapsed": false,
    "execution": {
     "iopub.execute_input": "2022-10-31T17:32:38.955689Z",
     "iopub.status.busy": "2022-10-31T17:32:38.955019Z",
     "iopub.status.idle": "2022-10-31T17:33:08.340599Z",
     "shell.execute_reply": "2022-10-31T17:33:08.339179Z"
    },
    "jupyter": {
     "outputs_hidden": false
    },
    "papermill": {
     "duration": 29.413383,
     "end_time": "2022-10-31T17:33:08.343671",
     "exception": false,
     "start_time": "2022-10-31T17:32:38.930288",
     "status": "completed"
    },
    "tags": []
   },
   "outputs": [
    {
     "name": "stdout",
     "output_type": "stream",
     "text": [
      "CPU times: user 28.5 s, sys: 863 ms, total: 29.4 s\n",
      "Wall time: 29.4 s\n"
     ]
    }
   ],
   "source": [
    "%%time\n",
    "from keras.preprocessing.sequence import pad_sequences\n",
    "\n",
    "# text_to_sequences transforms each text in texts to a sequence of integers. \n",
    "#So it basically takes each word in the text and replaces it with its corresponding integer value from the word_index dictionary\n",
    "\n",
    "SEQUENCE_LENGTH = 300\n",
    "\n",
    "x_train = pad_sequences(tokenizer.texts_to_sequences(df_train.text), maxlen=SEQUENCE_LENGTH)  \n",
    "x_test = pad_sequences(tokenizer.texts_to_sequences(df_test.text), maxlen=SEQUENCE_LENGTH)\n",
    "\n",
    "#pad_sequences is used to ensure that all sequences in a list have the same length"
   ]
  },
  {
   "cell_type": "markdown",
   "id": "98af80aa",
   "metadata": {
    "_cell_guid": "e29a3879-f65e-44d3-be29-8e06a1fe169d",
    "_uuid": "9a9eec00-a440-4530-a9c5-3c8f0edc86a0",
    "papermill": {
     "duration": 0.021028,
     "end_time": "2022-10-31T17:33:08.386966",
     "exception": false,
     "start_time": "2022-10-31T17:33:08.365938",
     "status": "completed"
    },
    "tags": []
   },
   "source": [
    "# Label Encoder\n",
    "#"
   ]
  },
  {
   "cell_type": "code",
   "execution_count": 33,
   "id": "ab8a4cb9",
   "metadata": {
    "_cell_guid": "a1f0190d-844a-44c8-82c9-e0092195f6df",
    "_uuid": "346e90cf-182f-4032-bc10-451f84313925",
    "collapsed": false,
    "execution": {
     "iopub.execute_input": "2022-10-31T17:33:08.430811Z",
     "iopub.status.busy": "2022-10-31T17:33:08.430141Z",
     "iopub.status.idle": "2022-10-31T17:33:08.435905Z",
     "shell.execute_reply": "2022-10-31T17:33:08.435048Z"
    },
    "jupyter": {
     "outputs_hidden": false
    },
    "papermill": {
     "duration": 0.030031,
     "end_time": "2022-10-31T17:33:08.437975",
     "exception": false,
     "start_time": "2022-10-31T17:33:08.407944",
     "status": "completed"
    },
    "tags": []
   },
   "outputs": [],
   "source": [
    "decode_map = {0: \"NEGATIVE\", 2: \"NEUTRAL\", 4: \"POSITIVE\"}\n",
    "def decode_sentiment(label):\n",
    "    return decode_map[int(label)]"
   ]
  },
  {
   "cell_type": "code",
   "execution_count": 34,
   "id": "b9279469",
   "metadata": {
    "_cell_guid": "7f3c7da0-5800-41d8-a760-0d26bb879f8b",
    "_uuid": "fe92532b-bbd7-4a98-9eb5-d4392d0644d5",
    "collapsed": false,
    "execution": {
     "iopub.execute_input": "2022-10-31T17:33:08.481968Z",
     "iopub.status.busy": "2022-10-31T17:33:08.480974Z",
     "iopub.status.idle": "2022-10-31T17:33:09.202991Z",
     "shell.execute_reply": "2022-10-31T17:33:09.201735Z"
    },
    "jupyter": {
     "outputs_hidden": false
    },
    "papermill": {
     "duration": 0.747399,
     "end_time": "2022-10-31T17:33:09.206448",
     "exception": false,
     "start_time": "2022-10-31T17:33:08.459049",
     "status": "completed"
    },
    "tags": []
   },
   "outputs": [
    {
     "name": "stdout",
     "output_type": "stream",
     "text": [
      "CPU times: user 706 ms, sys: 9 ms, total: 715 ms\n",
      "Wall time: 715 ms\n"
     ]
    }
   ],
   "source": [
    "%%time\n",
    "df_test.target = df_test.target.apply(lambda x: decode_sentiment(x))\n",
    "df_train.target = df_train.target.apply(lambda x: decode_sentiment(x))\n",
    "#we change the numerical values for the target sentiment"
   ]
  },
  {
   "cell_type": "code",
   "execution_count": 35,
   "id": "12325dca",
   "metadata": {
    "_cell_guid": "fb52103f-094c-4b1c-b6e8-2ab21b029cab",
    "_uuid": "c044f9ed-d908-48b3-af32-64d72b728c9e",
    "collapsed": false,
    "execution": {
     "iopub.execute_input": "2022-10-31T17:33:09.265903Z",
     "iopub.status.busy": "2022-10-31T17:33:09.265462Z",
     "iopub.status.idle": "2022-10-31T17:33:09.398442Z",
     "shell.execute_reply": "2022-10-31T17:33:09.397233Z"
    },
    "jupyter": {
     "outputs_hidden": false
    },
    "papermill": {
     "duration": 0.162121,
     "end_time": "2022-10-31T17:33:09.401071",
     "exception": false,
     "start_time": "2022-10-31T17:33:09.238950",
     "status": "completed"
    },
    "tags": []
   },
   "outputs": [
    {
     "data": {
      "text/plain": [
       "['NEGATIVE', 'POSITIVE', 'NEUTRAL']"
      ]
     },
     "execution_count": 35,
     "metadata": {},
     "output_type": "execute_result"
    }
   ],
   "source": [
    "\n",
    "POSITIVE = \"POSITIVE\"\n",
    "NEGATIVE = \"NEGATIVE\"\n",
    "NEUTRAL = \"NEUTRAL\"\n",
    "SENTIMENT_THRESHOLDS = (0.4, 0.7)\n",
    "\n",
    "labels = df_train.target.unique().tolist()\n",
    "labels2 = df_test.target.unique().tolist()\n",
    "labels.append(NEUTRAL)\n",
    "labels2.append(NEUTRAL)\n",
    "labels2"
   ]
  },
  {
   "cell_type": "code",
   "execution_count": 36,
   "id": "dd57fdd5",
   "metadata": {
    "_cell_guid": "83516b84-b1ae-437c-bbd7-5924f6d1eae8",
    "_uuid": "45d12a64-81b6-460e-bd21-14eb89aaf561",
    "collapsed": false,
    "execution": {
     "iopub.execute_input": "2022-10-31T17:33:09.446407Z",
     "iopub.status.busy": "2022-10-31T17:33:09.445638Z",
     "iopub.status.idle": "2022-10-31T17:33:09.452024Z",
     "shell.execute_reply": "2022-10-31T17:33:09.450578Z"
    },
    "jupyter": {
     "outputs_hidden": false
    },
    "papermill": {
     "duration": 0.033127,
     "end_time": "2022-10-31T17:33:09.455744",
     "exception": false,
     "start_time": "2022-10-31T17:33:09.422617",
     "status": "completed"
    },
    "tags": []
   },
   "outputs": [
    {
     "name": "stdout",
     "output_type": "stream",
     "text": [
      "['POSITIVE', 'NEGATIVE', 'NEUTRAL']\n",
      "['NEGATIVE', 'POSITIVE', 'NEUTRAL']\n"
     ]
    }
   ],
   "source": [
    "print(labels)\n",
    "print(labels2)"
   ]
  },
  {
   "cell_type": "code",
   "execution_count": 37,
   "id": "3511863d",
   "metadata": {
    "_cell_guid": "4cc22df6-0988-4152-b4f5-c0acfdf04f45",
    "_uuid": "706c789c-52ea-4cb9-b4da-84f6422f78d7",
    "collapsed": false,
    "execution": {
     "iopub.execute_input": "2022-10-31T17:33:09.502373Z",
     "iopub.status.busy": "2022-10-31T17:33:09.501058Z",
     "iopub.status.idle": "2022-10-31T17:33:11.021269Z",
     "shell.execute_reply": "2022-10-31T17:33:11.020000Z"
    },
    "jupyter": {
     "outputs_hidden": false
    },
    "papermill": {
     "duration": 1.546382,
     "end_time": "2022-10-31T17:33:11.024540",
     "exception": false,
     "start_time": "2022-10-31T17:33:09.478158",
     "status": "completed"
    },
    "tags": []
   },
   "outputs": [
    {
     "name": "stdout",
     "output_type": "stream",
     "text": [
      "y_train (1279999, 1)\n",
      "y_test (320000, 1)\n"
     ]
    }
   ],
   "source": [
    "from sklearn.preprocessing import LabelEncoder\n",
    "encoder = LabelEncoder()\n",
    "encoder.fit(df_train.target.tolist())\n",
    "\n",
    "y_train = encoder.transform(df_train.target.tolist())\n",
    "y_test = encoder.transform(df_test.target.tolist())\n",
    "\n",
    "y_train = y_train.reshape(-1,1)\n",
    "y_test = y_test.reshape(-1,1)\n",
    "\n",
    "print(\"y_train\",y_train.shape)\n",
    "print(\"y_test\",y_test.shape)"
   ]
  },
  {
   "cell_type": "code",
   "execution_count": 38,
   "id": "49599461",
   "metadata": {
    "_cell_guid": "ccc4e24c-1744-4282-82eb-8ac2ddf72b18",
    "_uuid": "2ff8ce76-b90e-45de-a035-2d64f9590337",
    "collapsed": false,
    "execution": {
     "iopub.execute_input": "2022-10-31T17:33:11.070043Z",
     "iopub.status.busy": "2022-10-31T17:33:11.069647Z",
     "iopub.status.idle": "2022-10-31T17:33:11.075957Z",
     "shell.execute_reply": "2022-10-31T17:33:11.074737Z"
    },
    "jupyter": {
     "outputs_hidden": false
    },
    "papermill": {
     "duration": 0.032639,
     "end_time": "2022-10-31T17:33:11.079520",
     "exception": false,
     "start_time": "2022-10-31T17:33:11.046881",
     "status": "completed"
    },
    "tags": []
   },
   "outputs": [
    {
     "name": "stdout",
     "output_type": "stream",
     "text": [
      "x_train (1279999, 300)\n",
      "y_train (1279999, 1)\n",
      "\n",
      "x_test (320000, 300)\n",
      "y_test (320000, 1)\n"
     ]
    }
   ],
   "source": [
    "print(\"x_train\", x_train.shape)\n",
    "print(\"y_train\", y_train.shape)\n",
    "print()\n",
    "print(\"x_test\", x_test.shape)\n",
    "print(\"y_test\", y_test.shape)"
   ]
  },
  {
   "cell_type": "code",
   "execution_count": 39,
   "id": "a39a90d9",
   "metadata": {
    "_cell_guid": "19e1a6f7-df74-4102-89a7-7aba2ac139a9",
    "_uuid": "0337587f-ded8-4135-9b6d-942bd588bd9f",
    "collapsed": false,
    "execution": {
     "iopub.execute_input": "2022-10-31T17:33:11.124637Z",
     "iopub.status.busy": "2022-10-31T17:33:11.124219Z",
     "iopub.status.idle": "2022-10-31T17:33:11.131653Z",
     "shell.execute_reply": "2022-10-31T17:33:11.130578Z"
    },
    "jupyter": {
     "outputs_hidden": false
    },
    "papermill": {
     "duration": 0.032274,
     "end_time": "2022-10-31T17:33:11.134106",
     "exception": false,
     "start_time": "2022-10-31T17:33:11.101832",
     "status": "completed"
    },
    "tags": []
   },
   "outputs": [
    {
     "data": {
      "text/plain": [
       "array([[1],\n",
       "       [1],\n",
       "       [1],\n",
       "       [0],\n",
       "       [1],\n",
       "       [1],\n",
       "       [1],\n",
       "       [1],\n",
       "       [1],\n",
       "       [1]])"
      ]
     },
     "execution_count": 39,
     "metadata": {},
     "output_type": "execute_result"
    }
   ],
   "source": [
    "y_train[:10]"
   ]
  },
  {
   "cell_type": "markdown",
   "id": "f2ba2c58",
   "metadata": {
    "_cell_guid": "e8df85e3-9ea9-4b29-adf0-42da7f6c561c",
    "_uuid": "f492a973-6f8e-4558-a38a-04aedfe53a48",
    "papermill": {
     "duration": 0.022079,
     "end_time": "2022-10-31T17:33:11.177528",
     "exception": false,
     "start_time": "2022-10-31T17:33:11.155449",
     "status": "completed"
    },
    "tags": []
   },
   "source": [
    "# Embedding layer\n",
    "#"
   ]
  },
  {
   "cell_type": "code",
   "execution_count": 40,
   "id": "22884091",
   "metadata": {
    "_cell_guid": "322a6f42-63fd-4c37-bb61-a11bf22ec862",
    "_uuid": "20fa04f4-6a91-43e5-8161-18c8ab020840",
    "collapsed": false,
    "execution": {
     "iopub.execute_input": "2022-10-31T17:33:11.221995Z",
     "iopub.status.busy": "2022-10-31T17:33:11.221603Z",
     "iopub.status.idle": "2022-10-31T17:33:11.717002Z",
     "shell.execute_reply": "2022-10-31T17:33:11.715616Z"
    },
    "jupyter": {
     "outputs_hidden": false
    },
    "papermill": {
     "duration": 0.52057,
     "end_time": "2022-10-31T17:33:11.719589",
     "exception": false,
     "start_time": "2022-10-31T17:33:11.199019",
     "status": "completed"
    },
    "tags": []
   },
   "outputs": [
    {
     "name": "stdout",
     "output_type": "stream",
     "text": [
      "(290442, 300)\n"
     ]
    }
   ],
   "source": [
    "embedding_matrix = np.zeros((vocab_size, W2V_SIZE))\n",
    "for word, i in tokenizer.word_index.items():\n",
    "  if word in w2v_model.wv:\n",
    "    embedding_matrix[i] = w2v_model.wv[word]\n",
    "print(embedding_matrix.shape)"
   ]
  },
  {
   "cell_type": "code",
   "execution_count": 41,
   "id": "a278dac9",
   "metadata": {
    "_cell_guid": "5989d1d6-be59-4de3-8f58-4f1ee34c75c2",
    "_uuid": "97855dec-1994-49be-9e38-cee7b22d4296",
    "collapsed": false,
    "execution": {
     "iopub.execute_input": "2022-10-31T17:33:11.764091Z",
     "iopub.status.busy": "2022-10-31T17:33:11.763724Z",
     "iopub.status.idle": "2022-10-31T17:33:11.793144Z",
     "shell.execute_reply": "2022-10-31T17:33:11.791877Z"
    },
    "jupyter": {
     "outputs_hidden": false
    },
    "papermill": {
     "duration": 0.054753,
     "end_time": "2022-10-31T17:33:11.795803",
     "exception": false,
     "start_time": "2022-10-31T17:33:11.741050",
     "status": "completed"
    },
    "tags": []
   },
   "outputs": [],
   "source": [
    "embedding_layer = Embedding(vocab_size, W2V_SIZE, weights=[embedding_matrix], input_length=SEQUENCE_LENGTH, trainable=False)\n",
    "#we build the embedding layer to map from words to vectors which you can do better analysis"
   ]
  },
  {
   "cell_type": "markdown",
   "id": "d571fa80",
   "metadata": {
    "_cell_guid": "ac31894c-edfe-4137-aad3-3983ac8f8f2c",
    "_uuid": "2fdaadff-9607-4b72-b581-b2d38895bada",
    "papermill": {
     "duration": 0.021086,
     "end_time": "2022-10-31T17:33:11.838528",
     "exception": false,
     "start_time": "2022-10-31T17:33:11.817442",
     "status": "completed"
    },
    "tags": []
   },
   "source": [
    "# Build Model\n",
    "#"
   ]
  },
  {
   "cell_type": "code",
   "execution_count": 42,
   "id": "0abd3b50",
   "metadata": {
    "_cell_guid": "afec3ff5-8889-48e2-9e9b-d990eeb4736e",
    "_uuid": "e475098f-1ede-429e-8687-206843210911",
    "collapsed": false,
    "execution": {
     "iopub.execute_input": "2022-10-31T17:33:11.883098Z",
     "iopub.status.busy": "2022-10-31T17:33:11.882668Z",
     "iopub.status.idle": "2022-10-31T17:33:13.347885Z",
     "shell.execute_reply": "2022-10-31T17:33:13.346432Z"
    },
    "jupyter": {
     "outputs_hidden": false
    },
    "papermill": {
     "duration": 1.491287,
     "end_time": "2022-10-31T17:33:13.351104",
     "exception": false,
     "start_time": "2022-10-31T17:33:11.859817",
     "status": "completed"
    },
    "tags": []
   },
   "outputs": [
    {
     "name": "stderr",
     "output_type": "stream",
     "text": [
      "2022-10-31 17:33:11.899402: I tensorflow/core/common_runtime/process_util.cc:146] Creating new thread pool with default inter op setting: 2. Tune using inter_op_parallelism_threads for best performance.\n"
     ]
    },
    {
     "name": "stdout",
     "output_type": "stream",
     "text": [
      "Model: \"sequential\"\n",
      "_________________________________________________________________\n",
      "Layer (type)                 Output Shape              Param #   \n",
      "=================================================================\n",
      "embedding (Embedding)        (None, 300, 300)          87132600  \n",
      "_________________________________________________________________\n",
      "dropout (Dropout)            (None, 300, 300)          0         \n",
      "_________________________________________________________________\n",
      "lstm (LSTM)                  (None, 100)               160400    \n",
      "_________________________________________________________________\n",
      "dense (Dense)                (None, 1)                 101       \n",
      "=================================================================\n",
      "Total params: 87,293,101\n",
      "Trainable params: 160,501\n",
      "Non-trainable params: 87,132,600\n",
      "_________________________________________________________________\n"
     ]
    }
   ],
   "source": [
    "from keras.models import Sequential\n",
    "\n",
    "model = Sequential()\n",
    "model.add(embedding_layer)\n",
    "model.add(Dropout(0.5))\n",
    "model.add(LSTM(100, dropout=0.2, recurrent_dropout=0.2))\n",
    "model.add(Dense(1, activation='sigmoid'))\n",
    "\n",
    "model.summary()"
   ]
  },
  {
   "cell_type": "markdown",
   "id": "13e0ec25",
   "metadata": {
    "_cell_guid": "f9ca793f-3e69-4ce8-a025-d40af9da1ac7",
    "_uuid": "a1fdcadb-8d6c-4a18-b04e-e6ae416535ea",
    "papermill": {
     "duration": 0.021749,
     "end_time": "2022-10-31T17:33:13.395288",
     "exception": false,
     "start_time": "2022-10-31T17:33:13.373539",
     "status": "completed"
    },
    "tags": []
   },
   "source": [
    "# Compile model"
   ]
  },
  {
   "cell_type": "code",
   "execution_count": 43,
   "id": "8eb5d2e5",
   "metadata": {
    "_cell_guid": "aa170f03-db0f-44b0-8d87-2accbc825e41",
    "_uuid": "86042a7e-eb46-4eca-9566-da25fc5e3aef",
    "collapsed": false,
    "execution": {
     "iopub.execute_input": "2022-10-31T17:33:13.440338Z",
     "iopub.status.busy": "2022-10-31T17:33:13.439941Z",
     "iopub.status.idle": "2022-10-31T17:33:13.454877Z",
     "shell.execute_reply": "2022-10-31T17:33:13.453829Z"
    },
    "jupyter": {
     "outputs_hidden": false
    },
    "papermill": {
     "duration": 0.040453,
     "end_time": "2022-10-31T17:33:13.457456",
     "exception": false,
     "start_time": "2022-10-31T17:33:13.417003",
     "status": "completed"
    },
    "tags": []
   },
   "outputs": [],
   "source": [
    "model.compile(loss='binary_crossentropy',\n",
    "              optimizer=\"adam\",\n",
    "              metrics=['accuracy'])"
   ]
  },
  {
   "cell_type": "markdown",
   "id": "5c47b3b8",
   "metadata": {
    "_cell_guid": "290a95a4-c096-4dbf-a40f-096e7d3fe0ff",
    "_uuid": "434601a9-9cd0-4e38-b8ca-879839e5d5fb",
    "papermill": {
     "duration": 0.021137,
     "end_time": "2022-10-31T17:33:13.500255",
     "exception": false,
     "start_time": "2022-10-31T17:33:13.479118",
     "status": "completed"
    },
    "tags": []
   },
   "source": [
    "# Callbacks"
   ]
  },
  {
   "cell_type": "code",
   "execution_count": 44,
   "id": "764080dc",
   "metadata": {
    "_cell_guid": "92c6d6cf-4d93-4fbf-b6cf-ff0bc41cdbcc",
    "_uuid": "f60006b0-0312-4238-9b62-cfae712fad14",
    "collapsed": false,
    "execution": {
     "iopub.execute_input": "2022-10-31T17:33:13.545347Z",
     "iopub.status.busy": "2022-10-31T17:33:13.544699Z",
     "iopub.status.idle": "2022-10-31T17:33:13.550379Z",
     "shell.execute_reply": "2022-10-31T17:33:13.549568Z"
    },
    "jupyter": {
     "outputs_hidden": false
    },
    "papermill": {
     "duration": 0.030806,
     "end_time": "2022-10-31T17:33:13.552908",
     "exception": false,
     "start_time": "2022-10-31T17:33:13.522102",
     "status": "completed"
    },
    "tags": []
   },
   "outputs": [],
   "source": [
    "from keras.callbacks import ReduceLROnPlateau, EarlyStopping\n",
    "\n",
    "\n",
    "callbacks = [ ReduceLROnPlateau(monitor='val_loss', patience=5, cooldown=0),   #Reduce learning rate when a metric has stopped improving. \n",
    "              EarlyStopping(monitor='val_acc', min_delta=1e-4, patience=5)]    #Stop training when a monitored metric has stopped improving."
   ]
  },
  {
   "cell_type": "markdown",
   "id": "c3983f04",
   "metadata": {
    "_cell_guid": "06385f16-07e6-42da-a63c-8fa406e1aea2",
    "_uuid": "029dddfb-7052-4215-852d-7025612c2da2",
    "papermill": {
     "duration": 0.021974,
     "end_time": "2022-10-31T17:33:13.597164",
     "exception": false,
     "start_time": "2022-10-31T17:33:13.575190",
     "status": "completed"
    },
    "tags": []
   },
   "source": [
    "# Train"
   ]
  },
  {
   "cell_type": "code",
   "execution_count": 45,
   "id": "50056297",
   "metadata": {
    "_cell_guid": "8d290f21-2990-49fb-8374-098b1be3f929",
    "_uuid": "aa666cd2-cc97-41f7-b850-a5ee0fedea01",
    "collapsed": false,
    "execution": {
     "iopub.execute_input": "2022-10-31T17:33:13.648957Z",
     "iopub.status.busy": "2022-10-31T17:33:13.648072Z",
     "iopub.status.idle": "2022-10-31T19:57:32.227801Z",
     "shell.execute_reply": "2022-10-31T19:57:32.226612Z"
    },
    "jupyter": {
     "outputs_hidden": false
    },
    "papermill": {
     "duration": 8658.701535,
     "end_time": "2022-10-31T19:57:32.320895",
     "exception": false,
     "start_time": "2022-10-31T17:33:13.619360",
     "status": "completed"
    },
    "tags": []
   },
   "outputs": [
    {
     "name": "stderr",
     "output_type": "stream",
     "text": [
      "2022-10-31 17:33:15.138738: I tensorflow/compiler/mlir/mlir_graph_optimization_pass.cc:185] None of the MLIR Optimization Passes are enabled (registered 2)\n"
     ]
    },
    {
     "name": "stdout",
     "output_type": "stream",
     "text": [
      "1125/1125 [==============================] - 8657s 8s/step - loss: 0.5025 - accuracy: 0.7513 - val_loss: 0.4655 - val_accuracy: 0.7792\n",
      "CPU times: user 6h 52min 11s, sys: 19min 49s, total: 7h 12min\n",
      "Wall time: 2h 24min 18s\n"
     ]
    }
   ],
   "source": [
    "%%time\n",
    "\n",
    "BATCH_SIZE = 1024\n",
    "EPOCHS = 1             #there should be more but for the sake of time let's just do 1 epoch\n",
    "\n",
    "history = model.fit(x_train, y_train,\n",
    "                    batch_size=BATCH_SIZE,\n",
    "                    epochs=EPOCHS,\n",
    "                    validation_split=0.1,\n",
    "                    verbose=1,\n",
    "                    callbacks=callbacks)"
   ]
  },
  {
   "cell_type": "markdown",
   "id": "2f5f7f15",
   "metadata": {
    "_cell_guid": "54a4fe68-45b2-47f6-91fd-1f151da94ffe",
    "_uuid": "228547ae-8227-45c5-912d-3ae1b692ca8b",
    "papermill": {
     "duration": 0.095039,
     "end_time": "2022-10-31T19:57:32.515015",
     "exception": false,
     "start_time": "2022-10-31T19:57:32.419976",
     "status": "completed"
    },
    "tags": []
   },
   "source": [
    "# Evaluate"
   ]
  },
  {
   "cell_type": "code",
   "execution_count": 46,
   "id": "4aa648ce",
   "metadata": {
    "_cell_guid": "806e8b4f-41e0-406e-9541-885d9503f6db",
    "_uuid": "ae84358c-a245-40f0-ab25-dc122bf23fb9",
    "collapsed": false,
    "execution": {
     "iopub.execute_input": "2022-10-31T19:57:32.781351Z",
     "iopub.status.busy": "2022-10-31T19:57:32.780493Z",
     "iopub.status.idle": "2022-10-31T20:06:18.085129Z",
     "shell.execute_reply": "2022-10-31T20:06:18.083577Z"
    },
    "jupyter": {
     "outputs_hidden": false
    },
    "papermill": {
     "duration": 525.476409,
     "end_time": "2022-10-31T20:06:18.087605",
     "exception": false,
     "start_time": "2022-10-31T19:57:32.611196",
     "status": "completed"
    },
    "tags": []
   },
   "outputs": [
    {
     "name": "stdout",
     "output_type": "stream",
     "text": [
      "313/313 [==============================] - 524s 2s/step - loss: 0.4637 - accuracy: 0.7799\n",
      "\n",
      "ACCURACY: 0.7798687219619751\n",
      "LOSS: 0.46367740631103516\n",
      "CPU times: user 24min 17s, sys: 1min 42s, total: 26min\n",
      "Wall time: 8min 45s\n"
     ]
    }
   ],
   "source": [
    "%%time\n",
    "score = model.evaluate(x_test, y_test, batch_size=BATCH_SIZE)\n",
    "print()\n",
    "print(\"ACCURACY:\",score[1])\n",
    "print(\"LOSS:\",score[0])"
   ]
  },
  {
   "cell_type": "markdown",
   "id": "9b0baaee",
   "metadata": {
    "_cell_guid": "cb833ff1-2c7c-45ba-82ba-544e3585f98a",
    "_uuid": "5f76f833-9133-409e-96fb-5a4e49b911d9",
    "papermill": {
     "duration": 0.108819,
     "end_time": "2022-10-31T20:06:18.305567",
     "exception": false,
     "start_time": "2022-10-31T20:06:18.196748",
     "status": "completed"
    },
    "tags": []
   },
   "source": [
    "# Predict"
   ]
  },
  {
   "cell_type": "code",
   "execution_count": 47,
   "id": "c7fc3ef2",
   "metadata": {
    "_cell_guid": "5f8facc5-1607-4fd5-b22b-c979cc78baef",
    "_uuid": "420b178d-5b93-46e2-88e3-56e8b5d33a14",
    "collapsed": false,
    "execution": {
     "iopub.execute_input": "2022-10-31T20:06:18.528140Z",
     "iopub.status.busy": "2022-10-31T20:06:18.527703Z",
     "iopub.status.idle": "2022-10-31T20:06:18.533556Z",
     "shell.execute_reply": "2022-10-31T20:06:18.532799Z"
    },
    "jupyter": {
     "outputs_hidden": false
    },
    "papermill": {
     "duration": 0.118658,
     "end_time": "2022-10-31T20:06:18.535537",
     "exception": false,
     "start_time": "2022-10-31T20:06:18.416879",
     "status": "completed"
    },
    "tags": []
   },
   "outputs": [],
   "source": [
    "def decode_sentiment(score, include_neutral=True):\n",
    "    if include_neutral:        \n",
    "        label = NEUTRAL\n",
    "        if score <= SENTIMENT_THRESHOLDS[0]:\n",
    "            label = NEGATIVE\n",
    "        elif score >= SENTIMENT_THRESHOLDS[1]:\n",
    "            label = POSITIVE\n",
    "\n",
    "        return label\n",
    "    else:\n",
    "        return NEGATIVE if score < 0.5 else POSITIVE"
   ]
  },
  {
   "cell_type": "code",
   "execution_count": 48,
   "id": "85fdbbf1",
   "metadata": {
    "_cell_guid": "bc20d179-7005-40ae-bc5b-8ad8dcba6a6b",
    "_uuid": "d21457cb-8b2d-46c7-b53e-0e0e782f0e56",
    "collapsed": false,
    "execution": {
     "iopub.execute_input": "2022-10-31T20:06:18.758722Z",
     "iopub.status.busy": "2022-10-31T20:06:18.758006Z",
     "iopub.status.idle": "2022-10-31T20:06:18.764421Z",
     "shell.execute_reply": "2022-10-31T20:06:18.763594Z"
    },
    "jupyter": {
     "outputs_hidden": false
    },
    "papermill": {
     "duration": 0.12163,
     "end_time": "2022-10-31T20:06:18.766597",
     "exception": false,
     "start_time": "2022-10-31T20:06:18.644967",
     "status": "completed"
    },
    "tags": []
   },
   "outputs": [],
   "source": [
    "import time\n",
    "def predict(text, include_neutral=True):\n",
    "    start_at = time.time()\n",
    "    # Tokenize text\n",
    "    x_test = pad_sequences(tokenizer.texts_to_sequences([text]), maxlen=SEQUENCE_LENGTH)\n",
    "    # Predict\n",
    "    score = model.predict([x_test])[0]\n",
    "    # Decode sentiment\n",
    "    label = decode_sentiment(score, include_neutral=include_neutral)\n",
    "\n",
    "    return {\"label\": label, \"score\": float(score),\n",
    "       \"elapsed_time\": time.time()-start_at}"
   ]
  },
  {
   "cell_type": "code",
   "execution_count": 49,
   "id": "7af328ca",
   "metadata": {
    "_cell_guid": "464797ea-d497-49a7-ab93-35d9f9b223ca",
    "_uuid": "8e4da19b-7e1e-445f-b1ce-7cf550033078",
    "collapsed": false,
    "execution": {
     "iopub.execute_input": "2022-10-31T20:06:18.991223Z",
     "iopub.status.busy": "2022-10-31T20:06:18.990166Z",
     "iopub.status.idle": "2022-10-31T20:06:19.531719Z",
     "shell.execute_reply": "2022-10-31T20:06:19.530870Z"
    },
    "jupyter": {
     "outputs_hidden": false
    },
    "papermill": {
     "duration": 0.654753,
     "end_time": "2022-10-31T20:06:19.533827",
     "exception": false,
     "start_time": "2022-10-31T20:06:18.879074",
     "status": "completed"
    },
    "tags": []
   },
   "outputs": [
    {
     "data": {
      "text/plain": [
       "{'label': 'NEGATIVE',\n",
       " 'score': 0.03237318992614746,\n",
       " 'elapsed_time': 0.5346767902374268}"
      ]
     },
     "execution_count": 49,
     "metadata": {},
     "output_type": "execute_result"
    }
   ],
   "source": [
    "predict(\"I'm having a bad day\")"
   ]
  },
  {
   "cell_type": "code",
   "execution_count": 50,
   "id": "854ba323",
   "metadata": {
    "_cell_guid": "31c3454b-504e-4975-a3f3-d2fd76c7f59b",
    "_uuid": "f3ea75ac-3bdd-47e6-80b4-bbf8022882d4",
    "collapsed": false,
    "execution": {
     "iopub.execute_input": "2022-10-31T20:06:19.755774Z",
     "iopub.status.busy": "2022-10-31T20:06:19.754875Z",
     "iopub.status.idle": "2022-10-31T20:06:19.968764Z",
     "shell.execute_reply": "2022-10-31T20:06:19.967944Z"
    },
    "jupyter": {
     "outputs_hidden": false
    },
    "papermill": {
     "duration": 0.327067,
     "end_time": "2022-10-31T20:06:19.971048",
     "exception": false,
     "start_time": "2022-10-31T20:06:19.643981",
     "status": "completed"
    },
    "tags": []
   },
   "outputs": [
    {
     "data": {
      "text/plain": [
       "{'label': 'NEGATIVE',\n",
       " 'score': 0.048692286014556885,\n",
       " 'elapsed_time': 0.20763945579528809}"
      ]
     },
     "execution_count": 50,
     "metadata": {},
     "output_type": "execute_result"
    }
   ],
   "source": [
    "predict(\"I hate the way he looks at me\")"
   ]
  },
  {
   "cell_type": "code",
   "execution_count": 51,
   "id": "96df4556",
   "metadata": {
    "_cell_guid": "30e40828-5a25-4672-a59f-3f8777f9fec2",
    "_uuid": "f0e291e4-cc66-489d-9936-98a851d21114",
    "collapsed": false,
    "execution": {
     "iopub.execute_input": "2022-10-31T20:06:20.193973Z",
     "iopub.status.busy": "2022-10-31T20:06:20.193175Z",
     "iopub.status.idle": "2022-10-31T20:06:20.403738Z",
     "shell.execute_reply": "2022-10-31T20:06:20.402538Z"
    },
    "jupyter": {
     "outputs_hidden": false
    },
    "papermill": {
     "duration": 0.324891,
     "end_time": "2022-10-31T20:06:20.406116",
     "exception": false,
     "start_time": "2022-10-31T20:06:20.081225",
     "status": "completed"
    },
    "tags": []
   },
   "outputs": [
    {
     "data": {
      "text/plain": [
       "{'label': 'POSITIVE',\n",
       " 'score': 0.8979765176773071,\n",
       " 'elapsed_time': 0.20304012298583984}"
      ]
     },
     "execution_count": 51,
     "metadata": {},
     "output_type": "execute_result"
    }
   ],
   "source": [
    "predict(\"Today I will finally make it\")"
   ]
  },
  {
   "cell_type": "code",
   "execution_count": 52,
   "id": "16a0e0a8",
   "metadata": {
    "_cell_guid": "a2e7564b-afbf-4b06-b86a-b958df643343",
    "_uuid": "64a01a31-ab7b-424b-86d2-7c2a695d454d",
    "collapsed": false,
    "execution": {
     "iopub.execute_input": "2022-10-31T20:06:20.627597Z",
     "iopub.status.busy": "2022-10-31T20:06:20.626888Z",
     "iopub.status.idle": "2022-10-31T20:06:20.834307Z",
     "shell.execute_reply": "2022-10-31T20:06:20.833265Z"
    },
    "jupyter": {
     "outputs_hidden": false
    },
    "papermill": {
     "duration": 0.321299,
     "end_time": "2022-10-31T20:06:20.836670",
     "exception": false,
     "start_time": "2022-10-31T20:06:20.515371",
     "status": "completed"
    },
    "tags": []
   },
   "outputs": [
    {
     "data": {
      "text/plain": [
       "{'label': 'NEUTRAL',\n",
       " 'score': 0.4497770667076111,\n",
       " 'elapsed_time': 0.20064401626586914}"
      ]
     },
     "execution_count": 52,
     "metadata": {},
     "output_type": "execute_result"
    }
   ],
   "source": [
    "predict(\"Sometimes I don't know what I'm thinking\")"
   ]
  },
  {
   "cell_type": "markdown",
   "id": "7f15fbc3",
   "metadata": {
    "_cell_guid": "9e3fd300-a038-48d6-8c9e-6dd8c2b03747",
    "_uuid": "cd1a541b-46b1-455c-b0b4-a849edcba79b",
    "papermill": {
     "duration": 0.109402,
     "end_time": "2022-10-31T20:06:21.055668",
     "exception": false,
     "start_time": "2022-10-31T20:06:20.946266",
     "status": "completed"
    },
    "tags": []
   },
   "source": [
    "# Classification Report\n",
    "#"
   ]
  },
  {
   "cell_type": "code",
   "execution_count": 53,
   "id": "628bd8c2",
   "metadata": {
    "_cell_guid": "fc8fd699-84e0-42f2-b3c6-1dd451ad91be",
    "_uuid": "59cdfddf-37fe-402b-bbe7-d688df507aa5",
    "collapsed": false,
    "execution": {
     "iopub.execute_input": "2022-10-31T20:06:21.276834Z",
     "iopub.status.busy": "2022-10-31T20:06:21.276086Z",
     "iopub.status.idle": "2022-10-31T20:13:26.859925Z",
     "shell.execute_reply": "2022-10-31T20:13:26.858556Z"
    },
    "jupyter": {
     "outputs_hidden": false
    },
    "papermill": {
     "duration": 425.698074,
     "end_time": "2022-10-31T20:13:26.863092",
     "exception": false,
     "start_time": "2022-10-31T20:06:21.165018",
     "status": "completed"
    },
    "tags": []
   },
   "outputs": [
    {
     "name": "stdout",
     "output_type": "stream",
     "text": [
      "40/40 [==============================] - 419s 10s/step\n",
      "              precision    recall  f1-score   support\n",
      "\n",
      "    NEGATIVE       0.78      0.78      0.78    159494\n",
      "    POSITIVE       0.78      0.78      0.78    160506\n",
      "\n",
      "    accuracy                           0.78    320000\n",
      "   macro avg       0.78      0.78      0.78    320000\n",
      "weighted avg       0.78      0.78      0.78    320000\n",
      "\n"
     ]
    }
   ],
   "source": [
    "from sklearn.metrics import confusion_matrix, classification_report, accuracy_score\n",
    "\n",
    "scores = model.predict(x_test, verbose=1, batch_size=8000)\n",
    "y_test_1d = list(df_test.target)\n",
    "y_pred_1d = [decode_sentiment(score, include_neutral=False) for score in scores]\n",
    "\n",
    "print(classification_report(y_test_1d, y_pred_1d))"
   ]
  },
  {
   "cell_type": "markdown",
   "id": "a996d7a0",
   "metadata": {
    "_cell_guid": "45bbf343-1fcb-4acf-8b4c-ab8dd83c9170",
    "_uuid": "5c0a7158-f3cb-4efc-9ffd-d9bfa16778f3",
    "papermill": {
     "duration": 0.112262,
     "end_time": "2022-10-31T20:13:27.089863",
     "exception": false,
     "start_time": "2022-10-31T20:13:26.977601",
     "status": "completed"
    },
    "tags": []
   },
   "source": [
    "# Accuracy Score"
   ]
  },
  {
   "cell_type": "code",
   "execution_count": 54,
   "id": "079fefcd",
   "metadata": {
    "_cell_guid": "c7a4980b-614a-4659-9402-b30489631150",
    "_uuid": "dce621c5-6586-40aa-8ad7-894cbc07f070",
    "collapsed": false,
    "execution": {
     "iopub.execute_input": "2022-10-31T20:13:27.319047Z",
     "iopub.status.busy": "2022-10-31T20:13:27.318635Z",
     "iopub.status.idle": "2022-10-31T20:13:27.893327Z",
     "shell.execute_reply": "2022-10-31T20:13:27.892359Z"
    },
    "jupyter": {
     "outputs_hidden": false
    },
    "papermill": {
     "duration": 0.69276,
     "end_time": "2022-10-31T20:13:27.895477",
     "exception": false,
     "start_time": "2022-10-31T20:13:27.202717",
     "status": "completed"
    },
    "tags": []
   },
   "outputs": [
    {
     "data": {
      "text/plain": [
       "0.77986875"
      ]
     },
     "execution_count": 54,
     "metadata": {},
     "output_type": "execute_result"
    }
   ],
   "source": [
    "accuracy_score(y_test_1d, y_pred_1d)"
   ]
  }
 ],
 "metadata": {
  "kernelspec": {
   "display_name": "Python 3",
   "language": "python",
   "name": "python3"
  },
  "language_info": {
   "codemirror_mode": {
    "name": "ipython",
    "version": 3
   },
   "file_extension": ".py",
   "mimetype": "text/x-python",
   "name": "python",
   "nbconvert_exporter": "python",
   "pygments_lexer": "ipython3",
   "version": "3.7.12"
  },
  "papermill": {
   "default_parameters": {},
   "duration": 10238.67775,
   "end_time": "2022-10-31T20:13:31.653344",
   "environment_variables": {},
   "exception": null,
   "input_path": "__notebook__.ipynb",
   "output_path": "__notebook__.ipynb",
   "parameters": {},
   "start_time": "2022-10-31T17:22:52.975594",
   "version": "2.3.4"
  }
 },
 "nbformat": 4,
 "nbformat_minor": 5
}
